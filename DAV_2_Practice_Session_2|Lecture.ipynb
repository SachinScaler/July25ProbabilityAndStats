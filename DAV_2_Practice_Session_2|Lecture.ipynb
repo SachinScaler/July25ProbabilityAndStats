{
  "nbformat": 4,
  "nbformat_minor": 0,
  "metadata": {
    "colab": {
      "provenance": [],
      "authorship_tag": "ABX9TyNjkrmgw7aZm9aoPw0yAlS7",
      "include_colab_link": true
    },
    "kernelspec": {
      "name": "python3",
      "display_name": "Python 3"
    },
    "language_info": {
      "name": "python"
    }
  },
  "cells": [
    {
      "cell_type": "markdown",
      "metadata": {
        "id": "view-in-github",
        "colab_type": "text"
      },
      "source": [
        "<a href=\"https://colab.research.google.com/github/SachinScaler/July25ProbabilityAndStats/blob/main/DAV_2_Practice_Session_2%7CLecture.ipynb\" target=\"_parent\"><img src=\"https://colab.research.google.com/assets/colab-badge.svg\" alt=\"Open In Colab\"/></a>"
      ]
    },
    {
      "cell_type": "markdown",
      "source": [
        "Find the mean length CI"
      ],
      "metadata": {
        "id": "kHQYDcOPAvWi"
      }
    },
    {
      "cell_type": "code",
      "execution_count": 18,
      "metadata": {
        "colab": {
          "base_uri": "https://localhost:8080/"
        },
        "id": "GPAWHBx29qIB",
        "outputId": "824ab710-1ad4-45f6-ae04-73f88e13dd0f"
      },
      "outputs": [
        {
          "output_type": "execute_result",
          "data": {
            "text/plain": [
              "(np.float64(22.432028812367957), np.float64(25.567971187632043))"
            ]
          },
          "metadata": {},
          "execution_count": 18
        }
      ],
      "source": [
        "from scipy.stats import norm\n",
        "import numpy as np\n",
        "\n",
        "n = 100\n",
        "mean = 24\n",
        "sigma = 8\n",
        "\n",
        "# calculate 95 % confidence interval\n",
        "norm.interval(0.95, loc=mean, scale=sigma/n**0.5)"
      ]
    },
    {
      "cell_type": "code",
      "source": [
        "# Alternate Solution: get z_score for 10/2 ie 5\n",
        "margin = norm.ppf(0.025)*sigma/n**0.5\n",
        "mean + margin, mean - margin"
      ],
      "metadata": {
        "colab": {
          "base_uri": "https://localhost:8080/"
        },
        "id": "SvYulZFFAexm",
        "outputId": "60d908d5-b551-4a9d-aa6b-a3f50bfa6c67"
      },
      "execution_count": 19,
      "outputs": [
        {
          "output_type": "execute_result",
          "data": {
            "text/plain": [
              "(np.float64(22.432028812367957), np.float64(25.567971187632043))"
            ]
          },
          "metadata": {},
          "execution_count": 19
        }
      ]
    },
    {
      "cell_type": "markdown",
      "source": [
        "Unknown distribution"
      ],
      "metadata": {
        "id": "45npa0a3Ax6D"
      }
    },
    {
      "cell_type": "code",
      "source": [
        "mean = 90\n",
        "std = 15\n",
        "n = 35\n",
        "\n",
        "# probability the sample mean is between 85 and 92\n",
        "cdf_92 = norm.cdf(92, loc=mean, scale=std/n**0.5)\n",
        "cdf_85 = norm.cdf(85, loc=mean, scale=std/n**0.5)\n",
        "cdf_92 - cdf_85"
      ],
      "metadata": {
        "colab": {
          "base_uri": "https://localhost:8080/"
        },
        "id": "FgATkr2m91ud",
        "outputId": "5b0344dc-973f-4aef-8d3d-4d6897eaecf7"
      },
      "execution_count": 11,
      "outputs": [
        {
          "output_type": "execute_result",
          "data": {
            "text/plain": [
              "np.float64(0.7605853690971865)"
            ]
          },
          "metadata": {},
          "execution_count": 11
        }
      ]
    },
    {
      "cell_type": "markdown",
      "source": [
        "Tip percentage"
      ],
      "metadata": {
        "id": "fuH0QMxOA04b"
      }
    },
    {
      "cell_type": "code",
      "source": [
        "n = 50\n",
        "mean = 28\n",
        "sigma = 7\n",
        "\n",
        "# probability the sample mean is between 26 and 31\n",
        "cdf_31 = norm.cdf(31, loc=mean, scale=sigma/n**0.5)\n",
        "cdf_26 = norm.cdf(26, loc=mean, scale=sigma/n**0.5)\n",
        "cdf_31 - cdf_26\n"
      ],
      "metadata": {
        "colab": {
          "base_uri": "https://localhost:8080/"
        },
        "id": "JG3gMtKv_XSD",
        "outputId": "b5d56015-9d27-4366-9324-e4934d2ebc31"
      },
      "execution_count": 12,
      "outputs": [
        {
          "output_type": "execute_result",
          "data": {
            "text/plain": [
              "np.float64(0.9771032071594303)"
            ]
          },
          "metadata": {},
          "execution_count": 12
        }
      ]
    },
    {
      "cell_type": "markdown",
      "source": [
        "Confidence interval for purchase"
      ],
      "metadata": {
        "id": "2I0JH5mdA3FU"
      }
    },
    {
      "cell_type": "code",
      "source": [
        "n = 100\n",
        "mean = 75\n",
        "sigma = 10\n",
        "\n",
        "# calculate 90 % confidence interval\n",
        "norm.interval(0.90, loc=mean, scale=sigma/n**0.5)"
      ],
      "metadata": {
        "colab": {
          "base_uri": "https://localhost:8080/"
        },
        "id": "9deSdKdI_txN",
        "outputId": "29ee087b-cb70-49e9-cb97-afeeca416596"
      },
      "execution_count": 13,
      "outputs": [
        {
          "output_type": "execute_result",
          "data": {
            "text/plain": [
              "(np.float64(73.35514637304853), np.float64(76.64485362695147))"
            ]
          },
          "metadata": {},
          "execution_count": 13
        }
      ]
    },
    {
      "cell_type": "code",
      "source": [
        "# Alternate Solution: get z_score for 10/2 ie 5\n",
        "margin = norm.ppf(0.05)*sigma/n**0.5\n",
        "mean + margin, mean - margin"
      ],
      "metadata": {
        "colab": {
          "base_uri": "https://localhost:8080/"
        },
        "id": "pPYxOzen_5tE",
        "outputId": "0b113ec6-0e42-444e-b6dd-a516de222001"
      },
      "execution_count": 17,
      "outputs": [
        {
          "output_type": "execute_result",
          "data": {
            "text/plain": [
              "(np.float64(73.35514637304853), np.float64(76.64485362695147))"
            ]
          },
          "metadata": {},
          "execution_count": 17
        }
      ]
    },
    {
      "cell_type": "markdown",
      "source": [
        "Paint Life"
      ],
      "metadata": {
        "id": "s-YixpSLA8Q1"
      }
    },
    {
      "cell_type": "markdown",
      "source": [
        "## Advanced Probability Distributions"
      ],
      "metadata": {
        "id": "LxO8J9BWCn73"
      }
    },
    {
      "cell_type": "markdown",
      "source": [
        "### General"
      ],
      "metadata": {
        "id": "aZvdaS4sHI-O"
      }
    },
    {
      "cell_type": "markdown",
      "source": [
        "Failure in machine"
      ],
      "metadata": {
        "id": "SBXItAWDHOOK"
      }
    },
    {
      "cell_type": "code",
      "source": [
        "p = 0.4 # 0.4 events per year\n",
        "n = 10\n",
        "\n",
        "# expected\n",
        "rate = n * p\n",
        "\n",
        "# fewer than 2: 0 or 1\n",
        "from scipy.stats import poisson\n",
        "\n",
        "poisson.cdf(1, rate)"
      ],
      "metadata": {
        "colab": {
          "base_uri": "https://localhost:8080/"
        },
        "id": "yb5zsSQ0HIY_",
        "outputId": "b5db57e4-da65-4a51-9f20-d15017817d35"
      },
      "execution_count": 38,
      "outputs": [
        {
          "output_type": "execute_result",
          "data": {
            "text/plain": [
              "np.float64(0.0915781944436709)"
            ]
          },
          "metadata": {},
          "execution_count": 38
        }
      ]
    },
    {
      "cell_type": "markdown",
      "source": [
        "Power failure"
      ],
      "metadata": {
        "id": "e51wuGspISX3"
      }
    },
    {
      "cell_type": "code",
      "source": [
        "rate = 3/20\n",
        "\n",
        "# not more than 1 failure: 0 and 1\n",
        "from scipy.stats import poisson\n",
        "\n",
        "poisson.cdf(1, rate)"
      ],
      "metadata": {
        "colab": {
          "base_uri": "https://localhost:8080/"
        },
        "id": "xZHkSpnWHjHZ",
        "outputId": "b8eb5a2f-ddad-4641-c947-21a8ad950d05"
      },
      "execution_count": 40,
      "outputs": [
        {
          "output_type": "execute_result",
          "data": {
            "text/plain": [
              "np.float64(0.9898141728888165)"
            ]
          },
          "metadata": {},
          "execution_count": 40
        }
      ]
    },
    {
      "cell_type": "markdown",
      "source": [
        "running shoes"
      ],
      "metadata": {
        "id": "0TXsC_DJIoom"
      }
    },
    {
      "cell_type": "code",
      "source": [
        "beta = 6 # 6 months: Time Interval\n",
        "\n",
        "from scipy.stats import expon\n",
        "\n",
        "#  lasted 5 months, last a total of over 9 months more: 1- cdf(9 - 5)\n",
        "# more than 4: 1 - cdf(4) additional (remember memory less)\n",
        "1- expon.cdf(4, scale=beta)"
      ],
      "metadata": {
        "colab": {
          "base_uri": "https://localhost:8080/"
        },
        "id": "E15A9wl0IqH6",
        "outputId": "50b7ea35-db0d-4825-e3f7-729b969463e3"
      },
      "execution_count": 43,
      "outputs": [
        {
          "output_type": "execute_result",
          "data": {
            "text/plain": [
              "np.float64(0.513417119032592)"
            ]
          },
          "metadata": {},
          "execution_count": 43
        }
      ]
    },
    {
      "cell_type": "markdown",
      "source": [
        "- alternative\n",
        "\n",
        "```\n",
        "P(X>9 ∣ X>5)=  P(X>9∩X>5)/ P(X>5)\n",
        "ie  X>9 ∩ X>5 will be all values  X>9 hence\n",
        "P(X>9 ∣ X>5)=  P(X>9)/ P(X>5)\n",
        "```\n"
      ],
      "metadata": {
        "id": "jfEkuBDzJr4L"
      }
    },
    {
      "cell_type": "code",
      "source": [
        "# over 9 months\n",
        "cdf_9 = 1 - expon.cdf(9, scale=beta)\n",
        "\n",
        "# over 5 months\n",
        "cdf_5 = 1 - expon.cdf(5, scale=beta)\n",
        "\n",
        "\n",
        "cdf_9/cdf_5"
      ],
      "metadata": {
        "colab": {
          "base_uri": "https://localhost:8080/"
        },
        "id": "R5BRlS_mJuZG",
        "outputId": "e443da1d-c0b3-4c7c-d7ec-841948c7b3a8"
      },
      "execution_count": 50,
      "outputs": [
        {
          "output_type": "execute_result",
          "data": {
            "text/plain": [
              "np.float64(0.513417119032592)"
            ]
          },
          "metadata": {},
          "execution_count": 50
        }
      ]
    },
    {
      "cell_type": "markdown",
      "source": [
        "Feedback Response"
      ],
      "metadata": {
        "id": "tEErW0E2LJ50"
      }
    },
    {
      "cell_type": "code",
      "source": [
        "p_neg = 0.3\n",
        "\n",
        "# expected neg\n",
        "1/p_neg"
      ],
      "metadata": {
        "colab": {
          "base_uri": "https://localhost:8080/"
        },
        "id": "UJTOO_grLLnc",
        "outputId": "2543b6b5-dc04-4184-e973-cb100a533323"
      },
      "execution_count": 51,
      "outputs": [
        {
          "output_type": "execute_result",
          "data": {
            "text/plain": [
              "3.3333333333333335"
            ]
          },
          "metadata": {},
          "execution_count": 51
        }
      ]
    },
    {
      "cell_type": "code",
      "source": [
        "rate = 240 # 240 per 3600 Seconds\n",
        "\n",
        "#  one vehicle arriving over a 30-second time interval\n",
        "adjusted_rate = 240 / 3600 * 30\n",
        "\n",
        "from scipy.stats import poisson\n",
        "\n",
        "poisson.pmf(1, adjusted_rate)"
      ],
      "metadata": {
        "colab": {
          "base_uri": "https://localhost:8080/"
        },
        "id": "aDrdQ9dZLY9n",
        "outputId": "086074d2-9b05-4e32-e402-28c1826233f4"
      },
      "execution_count": 55,
      "outputs": [
        {
          "output_type": "execute_result",
          "data": {
            "text/plain": [
              "np.float64(0.2706705664732254)"
            ]
          },
          "metadata": {},
          "execution_count": 55
        }
      ]
    },
    {
      "cell_type": "markdown",
      "source": [
        "Calls per hour"
      ],
      "metadata": {
        "id": "5zXC107eJuLC"
      }
    },
    {
      "cell_type": "code",
      "source": [
        "rate = 20 # 20 per hour\n",
        "\n",
        "#a) What is the probability of receiving exactly 25 calls in a given hour?\n",
        "\n",
        "from scipy.stats import poisson\n",
        "\n",
        "poisson.pmf(25, rate)"
      ],
      "metadata": {
        "colab": {
          "base_uri": "https://localhost:8080/"
        },
        "id": "lOe5153rLz2u",
        "outputId": "153395cd-c73a-4e59-b2e9-82266bf69e12"
      },
      "execution_count": 59,
      "outputs": [
        {
          "output_type": "execute_result",
          "data": {
            "text/plain": [
              "np.float64(0.04458764910826764)"
            ]
          },
          "metadata": {},
          "execution_count": 59
        }
      ]
    },
    {
      "cell_type": "code",
      "source": [
        "rate = 20 # 20 per hour\n",
        "\n",
        "#b) What is the probability of receiving more than 25 calls in a given hour?\n",
        "from scipy.stats import poisson\n",
        "\n",
        "1 - poisson.cdf(25, rate)"
      ],
      "metadata": {
        "colab": {
          "base_uri": "https://localhost:8080/"
        },
        "id": "7Gk8xfRQL9T6",
        "outputId": "f85a6915-1c71-45bf-c355-d4f5b7fc8b6e"
      },
      "execution_count": 60,
      "outputs": [
        {
          "output_type": "execute_result",
          "data": {
            "text/plain": [
              "np.float64(0.1121849727179699)"
            ]
          },
          "metadata": {},
          "execution_count": 60
        }
      ]
    },
    {
      "cell_type": "markdown",
      "source": [
        "### Additional"
      ],
      "metadata": {
        "id": "VCA6oqTDHGrn"
      }
    },
    {
      "cell_type": "markdown",
      "source": [
        "Railway Booking"
      ],
      "metadata": {
        "id": "aZYXmi2vFH6U"
      }
    },
    {
      "cell_type": "code",
      "source": [
        "# import exponential distribution\n",
        "from scipy.stats import expon\n",
        "\n",
        "beta = 4\n",
        "expon.ppf(0.75, scale=beta)"
      ],
      "metadata": {
        "colab": {
          "base_uri": "https://localhost:8080/"
        },
        "id": "z3MtYvlPCqQ8",
        "outputId": "aeb8f6eb-7f0e-4b6e-d122-14ca3c583906"
      },
      "execution_count": 62,
      "outputs": [
        {
          "output_type": "execute_result",
          "data": {
            "text/plain": [
              "np.float64(5.545177444479562)"
            ]
          },
          "metadata": {},
          "execution_count": 62
        }
      ]
    },
    {
      "cell_type": "markdown",
      "source": [
        "customers spend"
      ],
      "metadata": {
        "id": "nvHQci4cFFN8"
      }
    },
    {
      "cell_type": "code",
      "source": [
        "from scipy.stats import expon\n",
        "\n",
        "beta = 1000\n",
        "\n",
        "# x <= 600\n",
        "cdf_600 = expon.cdf(600, scale=beta)\n",
        "\n",
        "# x > 600\n",
        "1 - cdf_600"
      ],
      "metadata": {
        "colab": {
          "base_uri": "https://localhost:8080/"
        },
        "id": "56oN-GasC8p8",
        "outputId": "ad8e360e-285f-43d0-e955-5de12ae038ea"
      },
      "execution_count": 23,
      "outputs": [
        {
          "output_type": "execute_result",
          "data": {
            "text/plain": [
              "np.float64(0.5488116360940264)"
            ]
          },
          "metadata": {},
          "execution_count": 23
        }
      ]
    },
    {
      "cell_type": "markdown",
      "source": [
        "Glassware"
      ],
      "metadata": {
        "id": "YK_6yT8fFfe5"
      }
    },
    {
      "cell_type": "code",
      "source": [
        "# glassware good or bad\n",
        "# bad_p\n",
        "p = 1 / 1000\n",
        "\n",
        "# exactly 3 bad_p in 1000\n",
        "from scipy.stats import binom\n",
        "binom.pmf(6, 3000, p)"
      ],
      "metadata": {
        "colab": {
          "base_uri": "https://localhost:8080/"
        },
        "id": "EOl2wsmdE3Y8",
        "outputId": "a3f212a4-eac4-4382-f002-badb7710243c"
      },
      "execution_count": 25,
      "outputs": [
        {
          "output_type": "execute_result",
          "data": {
            "text/plain": [
              "np.float64(0.050384155058840946)"
            ]
          },
          "metadata": {},
          "execution_count": 25
        }
      ]
    },
    {
      "cell_type": "markdown",
      "source": [
        "Life of Gadget"
      ],
      "metadata": {
        "id": "-W2IgD5HF83r"
      }
    },
    {
      "cell_type": "code",
      "source": [
        "from scipy.stats import expon\n",
        "\n",
        "beta = 2\n",
        "# x <= 6: Atmost 6 year ie upto 6\n",
        "cdf_6 = expon.cdf(6, scale=beta)\n",
        "\n",
        "cdf_6"
      ],
      "metadata": {
        "colab": {
          "base_uri": "https://localhost:8080/"
        },
        "id": "-FMEqDBQFu5o",
        "outputId": "bf3d86e7-71a0-497c-e460-602b9a3bba6f"
      },
      "execution_count": 28,
      "outputs": [
        {
          "output_type": "execute_result",
          "data": {
            "text/plain": [
              "np.float64(0.950212931632136)"
            ]
          },
          "metadata": {},
          "execution_count": 28
        }
      ]
    },
    {
      "cell_type": "code",
      "source": [
        "# x > 6: atleast 6 years ie 6 or more\n",
        "1 - cdf_600"
      ],
      "metadata": {
        "colab": {
          "base_uri": "https://localhost:8080/"
        },
        "id": "XckFkTh3GDEi",
        "outputId": "a9fd36e3-d349-44d8-af8c-2e0565f0a0e2"
      },
      "execution_count": 29,
      "outputs": [
        {
          "output_type": "execute_result",
          "data": {
            "text/plain": [
              "np.float64(0.5488116360940264)"
            ]
          },
          "metadata": {},
          "execution_count": 29
        }
      ]
    },
    {
      "cell_type": "markdown",
      "source": [
        "Birthday"
      ],
      "metadata": {
        "id": "mXjqTv7YGhVi"
      }
    },
    {
      "cell_type": "code",
      "source": [
        "# brithday_p\n",
        "p = 1 / 365\n",
        "\n",
        "# exactly one other guest\n",
        "from scipy.stats import binom\n",
        "\n",
        "binom.pmf(1, 500, p)"
      ],
      "metadata": {
        "colab": {
          "base_uri": "https://localhost:8080/"
        },
        "id": "D6JGQvJEGFug",
        "outputId": "032e2fa3-cf03-427d-d8f3-c5d6650befaf"
      },
      "execution_count": 30,
      "outputs": [
        {
          "output_type": "execute_result",
          "data": {
            "text/plain": [
              "np.float64(0.34844017001836897)"
            ]
          },
          "metadata": {},
          "execution_count": 30
        }
      ]
    },
    {
      "cell_type": "code",
      "source": [
        "rate = 3 # 3 per day: ie events per unit time interval\n",
        "\n",
        "\n",
        "from scipy.stats import poisson\n",
        "\n",
        "# fewer than 2 system crashes in a day ie 0 or 1 crash\n",
        "poisson.cdf(1, rate)"
      ],
      "metadata": {
        "colab": {
          "base_uri": "https://localhost:8080/"
        },
        "id": "I2CcO4xIGsvn",
        "outputId": "8997c600-c31a-40b2-c33d-d1ae5de184e8"
      },
      "execution_count": 32,
      "outputs": [
        {
          "output_type": "execute_result",
          "data": {
            "text/plain": [
              "np.float64(0.1991482734714558)"
            ]
          },
          "metadata": {},
          "execution_count": 32
        }
      ]
    },
    {
      "cell_type": "code",
      "source": [
        "from scipy.stats import expon\n",
        "expon.ppf\n"
      ],
      "metadata": {
        "colab": {
          "base_uri": "https://localhost:8080/",
          "height": 186
        },
        "id": "2Tlwr6VHHA8X",
        "outputId": "c8f14d87-ae89-4620-98e2-d95eeccbf896"
      },
      "execution_count": 61,
      "outputs": [
        {
          "output_type": "execute_result",
          "data": {
            "text/plain": [
              "<bound method rv_continuous.ppf of <scipy.stats._continuous_distns.expon_gen object at 0x7d0c59ca9790>>"
            ],
            "text/html": [
              "<div style=\"max-width:800px; border: 1px solid var(--colab-border-color);\"><style>\n",
              "      pre.function-repr-contents {\n",
              "        overflow-x: auto;\n",
              "        padding: 8px 12px;\n",
              "        max-height: 500px;\n",
              "      }\n",
              "\n",
              "      pre.function-repr-contents.function-repr-contents-collapsed {\n",
              "        cursor: pointer;\n",
              "        max-height: 100px;\n",
              "      }\n",
              "    </style>\n",
              "    <pre style=\"white-space: initial; background:\n",
              "         var(--colab-secondary-surface-color); padding: 8px 12px;\n",
              "         border-bottom: 1px solid var(--colab-border-color);\"><b>scipy.stats._distn_infrastructure.rv_continuous.ppf</b><br/>def ppf(q, *args, **kwds)</pre><pre class=\"function-repr-contents function-repr-contents-collapsed\" style=\"\"><a class=\"filepath\" style=\"display:none\" href=\"#\">/usr/local/lib/python3.11/dist-packages/scipy/stats/_distn_infrastructure.py</a>Percent point function (inverse of `cdf`) at q of the given RV.\n",
              "\n",
              "Parameters\n",
              "----------\n",
              "q : array_like\n",
              "    lower tail probability\n",
              "arg1, arg2, arg3,... : array_like\n",
              "    The shape parameter(s) for the distribution (see docstring of the\n",
              "    instance object for more information)\n",
              "loc : array_like, optional\n",
              "    location parameter (default=0)\n",
              "scale : array_like, optional\n",
              "    scale parameter (default=1)\n",
              "\n",
              "Returns\n",
              "-------\n",
              "x : array_like\n",
              "    quantile corresponding to the lower tail probability q.</pre>\n",
              "      <script>\n",
              "      if (google.colab.kernel.accessAllowed && google.colab.files && google.colab.files.view) {\n",
              "        for (const element of document.querySelectorAll('.filepath')) {\n",
              "          element.style.display = 'block'\n",
              "          element.onclick = (event) => {\n",
              "            event.preventDefault();\n",
              "            event.stopPropagation();\n",
              "            google.colab.files.view(element.textContent, 2291);\n",
              "          };\n",
              "        }\n",
              "      }\n",
              "      for (const element of document.querySelectorAll('.function-repr-contents')) {\n",
              "        element.onclick = (event) => {\n",
              "          event.preventDefault();\n",
              "          event.stopPropagation();\n",
              "          element.classList.toggle('function-repr-contents-collapsed');\n",
              "        };\n",
              "      }\n",
              "      </script>\n",
              "      </div>"
            ]
          },
          "metadata": {},
          "execution_count": 61
        }
      ]
    },
    {
      "cell_type": "code",
      "source": [
        "p = 0.97\n",
        "x_values = [0, 1]\n",
        "\n",
        "probs= [1 - p, p]\n",
        "expected_x_squared = sum([x**2 * prob for x, prob in zip(x_values, probs)])\n",
        "print(round(expected_x_squared, 4))"
      ],
      "metadata": {
        "colab": {
          "base_uri": "https://localhost:8080/"
        },
        "id": "_uQx3fLnYrOe",
        "outputId": "7fd13b10-9f8f-403d-db99-a7052f000948"
      },
      "execution_count": 63,
      "outputs": [
        {
          "output_type": "stream",
          "name": "stdout",
          "text": [
            "0.97\n"
          ]
        }
      ]
    },
    {
      "cell_type": "code",
      "source": [
        "cashback_amounts = [10, 20, 50, 100, 500]  # Possible cashback values\n",
        "\n",
        "p = 1 / len(cashback_amounts)\n",
        "\n",
        "sum([p * amount for amount in cashback_amounts])"
      ],
      "metadata": {
        "colab": {
          "base_uri": "https://localhost:8080/"
        },
        "id": "26w0GqT6fgr0",
        "outputId": "1d86903f-f5af-433e-afc0-283f615361ed"
      },
      "execution_count": 64,
      "outputs": [
        {
          "output_type": "execute_result",
          "data": {
            "text/plain": [
              "136.0"
            ]
          },
          "metadata": {},
          "execution_count": 64
        }
      ]
    },
    {
      "cell_type": "code",
      "source": [
        "from scipy.stats import uniform\n",
        "\n",
        "uniform.cdf(1.5, 1, 2.5 - 1)"
      ],
      "metadata": {
        "colab": {
          "base_uri": "https://localhost:8080/"
        },
        "id": "kiDcJiWLjkqt",
        "outputId": "e8fb2722-3d7e-46ec-b331-785f9834ec47"
      },
      "execution_count": 65,
      "outputs": [
        {
          "output_type": "execute_result",
          "data": {
            "text/plain": [
              "np.float64(0.3333333333333333)"
            ]
          },
          "metadata": {},
          "execution_count": 65
        }
      ]
    },
    {
      "cell_type": "code",
      "source": [
        "from scipy.stats import uniform\n",
        "\n",
        "uniform.pdf(2, 1, 2.5 - 1)"
      ],
      "metadata": {
        "colab": {
          "base_uri": "https://localhost:8080/"
        },
        "id": "0378HdM6lwY5",
        "outputId": "344205e8-814d-4aa3-b0b0-0ea206d5e8bc"
      },
      "execution_count": 68,
      "outputs": [
        {
          "output_type": "execute_result",
          "data": {
            "text/plain": [
              "np.float64(0.6666666666666666)"
            ]
          },
          "metadata": {},
          "execution_count": 68
        }
      ]
    },
    {
      "cell_type": "code",
      "source": [
        "p = 0.15\n",
        "expected_apps = 1 / p  # E(X) = 1 / p\n",
        "expected_apps"
      ],
      "metadata": {
        "colab": {
          "base_uri": "https://localhost:8080/"
        },
        "id": "494PFI4lmCZm",
        "outputId": "ef758588-02ed-4def-f1c5-51d03f77a0b6"
      },
      "execution_count": 69,
      "outputs": [
        {
          "output_type": "execute_result",
          "data": {
            "text/plain": [
              "6.666666666666667"
            ]
          },
          "metadata": {},
          "execution_count": 69
        }
      ]
    },
    {
      "cell_type": "code",
      "source": [
        "# 5th success\n",
        "\n",
        "from scipy.stats import geom\n",
        "\n",
        "geom.pmf(5, p)"
      ],
      "metadata": {
        "colab": {
          "base_uri": "https://localhost:8080/"
        },
        "id": "w-CuI9XIm8Ok",
        "outputId": "488b69be-3f13-47d3-94f7-403a9e9061ce"
      },
      "execution_count": 70,
      "outputs": [
        {
          "output_type": "execute_result",
          "data": {
            "text/plain": [
              "np.float64(0.07830093749999999)"
            ]
          },
          "metadata": {},
          "execution_count": 70
        }
      ]
    },
    {
      "cell_type": "code",
      "source": [
        "\n",
        "from scipy.stats import binom\n",
        "\n",
        "binom.pmf(1, 5, p)"
      ],
      "metadata": {
        "colab": {
          "base_uri": "https://localhost:8080/"
        },
        "id": "9GVflT06nEwN",
        "outputId": "9165a491-b09e-4dbd-d6f5-a40ed873d265"
      },
      "execution_count": 74,
      "outputs": [
        {
          "output_type": "execute_result",
          "data": {
            "text/plain": [
              "np.float64(0.39150468749999984)"
            ]
          },
          "metadata": {},
          "execution_count": 74
        }
      ]
    },
    {
      "cell_type": "code",
      "source": [
        "from scipy.stats import poisson\n",
        "\n",
        "\n",
        "rate = 5\n",
        "poisson.pmf(7, rate)"
      ],
      "metadata": {
        "colab": {
          "base_uri": "https://localhost:8080/"
        },
        "id": "uCkbUeucnP-L",
        "outputId": "c9d485b9-dde4-4a76-c0a2-4ac1530f328b"
      },
      "execution_count": 76,
      "outputs": [
        {
          "output_type": "execute_result",
          "data": {
            "text/plain": [
              "np.float64(0.10444486295705395)"
            ]
          },
          "metadata": {},
          "execution_count": 76
        }
      ]
    },
    {
      "cell_type": "code",
      "source": [
        "1 - poisson.cdf(2, rate)"
      ],
      "metadata": {
        "colab": {
          "base_uri": "https://localhost:8080/"
        },
        "id": "mXPGq9SDoG9k",
        "outputId": "849d49ce-fcff-40fa-b336-2d19e2e5080d"
      },
      "execution_count": 78,
      "outputs": [
        {
          "output_type": "execute_result",
          "data": {
            "text/plain": [
              "np.float64(0.8753479805169189)"
            ]
          },
          "metadata": {},
          "execution_count": 78
        }
      ]
    },
    {
      "cell_type": "code",
      "source": [
        "beta = 15\n",
        "\n",
        "from scipy.stats import expon\n",
        "\n",
        "expon.cdf(10, scale=beta)"
      ],
      "metadata": {
        "colab": {
          "base_uri": "https://localhost:8080/"
        },
        "id": "plL3fM9voQv0",
        "outputId": "73b2f929-dbf8-4f95-86e1-99742253578f"
      },
      "execution_count": 81,
      "outputs": [
        {
          "output_type": "execute_result",
          "data": {
            "text/plain": [
              "np.float64(0.486582880967408)"
            ]
          },
          "metadata": {},
          "execution_count": 81
        }
      ]
    },
    {
      "cell_type": "code",
      "source": [
        "import random\n",
        "\n",
        "random.uniform\n"
      ],
      "metadata": {
        "colab": {
          "base_uri": "https://localhost:8080/",
          "height": 154
        },
        "id": "fvgJh-IXpI5t",
        "outputId": "dc444b32-8fc1-4be1-f6be-445300de6f97"
      },
      "execution_count": 82,
      "outputs": [
        {
          "output_type": "execute_result",
          "data": {
            "text/plain": [
              "<bound method Random.normalvariate of <random.Random object at 0x108d2fa0>>"
            ],
            "text/html": [
              "<div style=\"max-width:800px; border: 1px solid var(--colab-border-color);\"><style>\n",
              "      pre.function-repr-contents {\n",
              "        overflow-x: auto;\n",
              "        padding: 8px 12px;\n",
              "        max-height: 500px;\n",
              "      }\n",
              "\n",
              "      pre.function-repr-contents.function-repr-contents-collapsed {\n",
              "        cursor: pointer;\n",
              "        max-height: 100px;\n",
              "      }\n",
              "    </style>\n",
              "    <pre style=\"white-space: initial; background:\n",
              "         var(--colab-secondary-surface-color); padding: 8px 12px;\n",
              "         border-bottom: 1px solid var(--colab-border-color);\"><b>random.Random.normalvariate</b><br/>def normalvariate(mu=0.0, sigma=1.0)</pre><pre class=\"function-repr-contents function-repr-contents-collapsed\" style=\"\"><a class=\"filepath\" style=\"display:none\" href=\"#\">/usr/lib/python3.11/random.py</a>Normal distribution.\n",
              "\n",
              "mu is the mean, and sigma is the standard deviation.</pre>\n",
              "      <script>\n",
              "      if (google.colab.kernel.accessAllowed && google.colab.files && google.colab.files.view) {\n",
              "        for (const element of document.querySelectorAll('.filepath')) {\n",
              "          element.style.display = 'block'\n",
              "          element.onclick = (event) => {\n",
              "            event.preventDefault();\n",
              "            event.stopPropagation();\n",
              "            google.colab.files.view(element.textContent, 544);\n",
              "          };\n",
              "        }\n",
              "      }\n",
              "      for (const element of document.querySelectorAll('.function-repr-contents')) {\n",
              "        element.onclick = (event) => {\n",
              "          event.preventDefault();\n",
              "          event.stopPropagation();\n",
              "          element.classList.toggle('function-repr-contents-collapsed');\n",
              "        };\n",
              "      }\n",
              "      </script>\n",
              "      </div>"
            ]
          },
          "metadata": {},
          "execution_count": 82
        }
      ]
    },
    {
      "cell_type": "code",
      "source": [
        "random.normalvariate\n"
      ],
      "metadata": {
        "colab": {
          "base_uri": "https://localhost:8080/",
          "height": 154
        },
        "id": "-64pirzGqKwf",
        "outputId": "06a496ee-a4f7-4659-b6b3-69657586629b"
      },
      "execution_count": 83,
      "outputs": [
        {
          "output_type": "execute_result",
          "data": {
            "text/plain": [
              "<bound method Random.normalvariate of <random.Random object at 0x108d2fa0>>"
            ],
            "text/html": [
              "<div style=\"max-width:800px; border: 1px solid var(--colab-border-color);\"><style>\n",
              "      pre.function-repr-contents {\n",
              "        overflow-x: auto;\n",
              "        padding: 8px 12px;\n",
              "        max-height: 500px;\n",
              "      }\n",
              "\n",
              "      pre.function-repr-contents.function-repr-contents-collapsed {\n",
              "        cursor: pointer;\n",
              "        max-height: 100px;\n",
              "      }\n",
              "    </style>\n",
              "    <pre style=\"white-space: initial; background:\n",
              "         var(--colab-secondary-surface-color); padding: 8px 12px;\n",
              "         border-bottom: 1px solid var(--colab-border-color);\"><b>random.Random.normalvariate</b><br/>def normalvariate(mu=0.0, sigma=1.0)</pre><pre class=\"function-repr-contents function-repr-contents-collapsed\" style=\"\"><a class=\"filepath\" style=\"display:none\" href=\"#\">/usr/lib/python3.11/random.py</a>Normal distribution.\n",
              "\n",
              "mu is the mean, and sigma is the standard deviation.</pre>\n",
              "      <script>\n",
              "      if (google.colab.kernel.accessAllowed && google.colab.files && google.colab.files.view) {\n",
              "        for (const element of document.querySelectorAll('.filepath')) {\n",
              "          element.style.display = 'block'\n",
              "          element.onclick = (event) => {\n",
              "            event.preventDefault();\n",
              "            event.stopPropagation();\n",
              "            google.colab.files.view(element.textContent, 544);\n",
              "          };\n",
              "        }\n",
              "      }\n",
              "      for (const element of document.querySelectorAll('.function-repr-contents')) {\n",
              "        element.onclick = (event) => {\n",
              "          event.preventDefault();\n",
              "          event.stopPropagation();\n",
              "          element.classList.toggle('function-repr-contents-collapsed');\n",
              "        };\n",
              "      }\n",
              "      </script>\n",
              "      </div>"
            ]
          },
          "metadata": {},
          "execution_count": 83
        }
      ]
    },
    {
      "cell_type": "code",
      "source": [
        "random.expovariate"
      ],
      "metadata": {
        "colab": {
          "base_uri": "https://localhost:8080/",
          "height": 186
        },
        "id": "RFPtm7DxqLx7",
        "outputId": "5bfc0321-583a-4d9a-dcb0-033a57be0e26"
      },
      "execution_count": 84,
      "outputs": [
        {
          "output_type": "execute_result",
          "data": {
            "text/plain": [
              "<bound method Random.expovariate of <random.Random object at 0x108d2fa0>>"
            ],
            "text/html": [
              "<div style=\"max-width:800px; border: 1px solid var(--colab-border-color);\"><style>\n",
              "      pre.function-repr-contents {\n",
              "        overflow-x: auto;\n",
              "        padding: 8px 12px;\n",
              "        max-height: 500px;\n",
              "      }\n",
              "\n",
              "      pre.function-repr-contents.function-repr-contents-collapsed {\n",
              "        cursor: pointer;\n",
              "        max-height: 100px;\n",
              "      }\n",
              "    </style>\n",
              "    <pre style=\"white-space: initial; background:\n",
              "         var(--colab-secondary-surface-color); padding: 8px 12px;\n",
              "         border-bottom: 1px solid var(--colab-border-color);\"><b>random.Random.expovariate</b><br/>def expovariate(lambd)</pre><pre class=\"function-repr-contents function-repr-contents-collapsed\" style=\"\"><a class=\"filepath\" style=\"display:none\" href=\"#\">/usr/lib/python3.11/random.py</a>Exponential distribution.\n",
              "\n",
              "lambd is 1.0 divided by the desired mean.  It should be\n",
              "nonzero.  (The parameter would be called &quot;lambda&quot;, but that is\n",
              "a reserved word in Python.)  Returned values range from 0 to\n",
              "positive infinity if lambd is positive, and from negative\n",
              "infinity to 0 if lambd is negative.</pre>\n",
              "      <script>\n",
              "      if (google.colab.kernel.accessAllowed && google.colab.files && google.colab.files.view) {\n",
              "        for (const element of document.querySelectorAll('.filepath')) {\n",
              "          element.style.display = 'block'\n",
              "          element.onclick = (event) => {\n",
              "            event.preventDefault();\n",
              "            event.stopPropagation();\n",
              "            google.colab.files.view(element.textContent, 613);\n",
              "          };\n",
              "        }\n",
              "      }\n",
              "      for (const element of document.querySelectorAll('.function-repr-contents')) {\n",
              "        element.onclick = (event) => {\n",
              "          event.preventDefault();\n",
              "          event.stopPropagation();\n",
              "          element.classList.toggle('function-repr-contents-collapsed');\n",
              "        };\n",
              "      }\n",
              "      </script>\n",
              "      </div>"
            ]
          },
          "metadata": {},
          "execution_count": 84
        }
      ]
    },
    {
      "cell_type": "code",
      "source": [
        "beta = 0.5 # rate = 0.2\n",
        "# step1: Generate 10000 data points\n",
        "pop_data = [random.expovariate(beta) for _ in range(10000)]\n",
        "\n",
        "# let's plot the distribution\n",
        "import matplotlib.pyplot as plt\n",
        "plt.hist(pop_data, bins=50, density=True)\n",
        "plt.show()"
      ],
      "metadata": {
        "colab": {
          "base_uri": "https://localhost:8080/",
          "height": 430
        },
        "id": "hRJ25sTAqOce",
        "outputId": "2ac80a58-6e98-4ef0-a972-961e03b54fc7"
      },
      "execution_count": 91,
      "outputs": [
        {
          "output_type": "display_data",
          "data": {
            "text/plain": [
              "<Figure size 640x480 with 1 Axes>"
            ],
            "image/png": "[encoded data removed]"
          },
          "metadata": {}
        }
      ]
    },
    {
      "cell_type": "code",
      "source": [
        "np.mean(pop_data)"
      ],
      "metadata": {
        "colab": {
          "base_uri": "https://localhost:8080/"
        },
        "id": "VFjYWREUqdyx",
        "outputId": "cae5983c-6c94-490a-e01c-4dabb68affa3"
      },
      "execution_count": 92,
      "outputs": [
        {
          "output_type": "execute_result",
          "data": {
            "text/plain": [
              "np.float64(2.0161751055361363)"
            ]
          },
          "metadata": {},
          "execution_count": 92
        }
      ]
    },
    {
      "cell_type": "code",
      "source": [
        "sample1 = random.choices(pop_data, k=30)\n",
        "sample1"
      ],
      "metadata": {
        "colab": {
          "base_uri": "https://localhost:8080/"
        },
        "id": "WLJRoO7-qn0J",
        "outputId": "dd418167-6dbe-4d68-dd22-dbeea21177f9"
      },
      "execution_count": 93,
      "outputs": [
        {
          "output_type": "execute_result",
          "data": {
            "text/plain": [
              "[3.266622765918146,\n",
              " 8.037997114156807,\n",
              " 3.7697215681935257,\n",
              " 4.399735098202216,\n",
              " 0.06075328901593066,\n",
              " 1.5551053748088763,\n",
              " 2.5512902406615425,\n",
              " 0.46045851598463594,\n",
              " 0.08474065028266811,\n",
              " 4.915389453919196,\n",
              " 5.528587933706008,\n",
              " 0.3977359350157702,\n",
              " 3.9992943762398743,\n",
              " 0.7239384936456397,\n",
              " 0.4243886281427541,\n",
              " 1.741663354229911,\n",
              " 1.3700669870466915,\n",
              " 1.3435000855759787,\n",
              " 0.07756821274973133,\n",
              " 1.0246640697833889,\n",
              " 3.662222198455083,\n",
              " 2.689227148024432,\n",
              " 0.896214566015045,\n",
              " 4.075742565365916,\n",
              " 0.2995435212250473,\n",
              " 1.206894235117517,\n",
              " 0.3837641045602301,\n",
              " 1.009360271172339,\n",
              " 0.4787508121216301,\n",
              " 1.1885174474910294]"
            ]
          },
          "metadata": {},
          "execution_count": 93
        }
      ]
    },
    {
      "cell_type": "code",
      "source": [
        "np.mean(sample1)"
      ],
      "metadata": {
        "colab": {
          "base_uri": "https://localhost:8080/"
        },
        "id": "wLoxI1-kqzzf",
        "outputId": "ec4f6f08-c913-4778-a09d-acf1cbc4c36b"
      },
      "execution_count": 89,
      "outputs": [
        {
          "output_type": "execute_result",
          "data": {
            "text/plain": [
              "np.float64(0.21001899711980448)"
            ]
          },
          "metadata": {},
          "execution_count": 89
        }
      ]
    },
    {
      "cell_type": "markdown",
      "source": [
        "### Can you create sampling distribution with 100 sample of size 30, calculate mean and CI corresponding to 90%"
      ],
      "metadata": {
        "id": "kzO342ivq83m"
      }
    },
    {
      "cell_type": "code",
      "source": [
        "# plot the sampling distribution and confirm its bell curved"
      ],
      "metadata": {
        "id": "AQaV5rmZq5Gp"
      },
      "execution_count": 94,
      "outputs": []
    },
    {
      "cell_type": "code",
      "source": [
        "# let's say this is one Sample\n",
        "weights = [2.1, 2.2, 2.3, 2.0, 2.2, 2.4, 2.1, 2.3, 2.2, 2.0]\n",
        "n = len(weights)\n",
        "mean = np.mean(weights)\n",
        "\n",
        "std = np.std(weights)\n",
        "\n",
        "mean, std"
      ],
      "metadata": {
        "colab": {
          "base_uri": "https://localhost:8080/"
        },
        "id": "dt2HgOPvreGf",
        "outputId": "f55b584a-a8a1-4b33-d12b-4e13789d8078"
      },
      "execution_count": 97,
      "outputs": [
        {
          "output_type": "execute_result",
          "data": {
            "text/plain": [
              "(np.float64(2.18), np.float64(0.1248999599679679))"
            ]
          },
          "metadata": {},
          "execution_count": 97
        }
      ]
    },
    {
      "cell_type": "code",
      "source": [
        "# margin of error:\n",
        "\n",
        "se = std / np.sqrt(n)\n",
        "se\n"
      ],
      "metadata": {
        "colab": {
          "base_uri": "https://localhost:8080/"
        },
        "id": "PS5TzxSttebO",
        "outputId": "431e9196-f4b9-42fa-f990-18e6bb0028fd"
      },
      "execution_count": 98,
      "outputs": [
        {
          "output_type": "execute_result",
          "data": {
            "text/plain": [
              "np.float64(0.039496835316262975)"
            ]
          },
          "metadata": {},
          "execution_count": 98
        }
      ]
    },
    {
      "cell_type": "code",
      "source": [
        "# get z_score for 90 CI: associated with 0.05\n",
        "z = norm.ppf(0.05)\n",
        "z"
      ],
      "metadata": {
        "colab": {
          "base_uri": "https://localhost:8080/"
        },
        "id": "YKXrXJxit-3c",
        "outputId": "884b9ef9-cecb-4746-81b6-da536cdf2020"
      },
      "execution_count": 115,
      "outputs": [
        {
          "output_type": "execute_result",
          "data": {
            "text/plain": [
              "np.float64(-1.6448536269514729)"
            ]
          },
          "metadata": {},
          "execution_count": 115
        }
      ]
    },
    {
      "cell_type": "code",
      "source": [
        "moe = z * se\n",
        "moe"
      ],
      "metadata": {
        "colab": {
          "base_uri": "https://localhost:8080/"
        },
        "id": "JFq24_YOt72c",
        "outputId": "7d30cb26-8b20-47a2-86bc-45fa726a30f1"
      },
      "execution_count": 116,
      "outputs": [
        {
          "output_type": "execute_result",
          "data": {
            "text/plain": [
              "np.float64(-0.06496651282306018)"
            ]
          },
          "metadata": {},
          "execution_count": 116
        }
      ]
    },
    {
      "cell_type": "code",
      "source": [
        "# 90 CI: 0.05\n",
        "\n",
        "mean+moe, mean-moe"
      ],
      "metadata": {
        "colab": {
          "base_uri": "https://localhost:8080/"
        },
        "id": "iWEiwzCOuPim",
        "outputId": "a26b1507-013a-4110-b25a-93b2d884344c"
      },
      "execution_count": 117,
      "outputs": [
        {
          "output_type": "execute_result",
          "data": {
            "text/plain": [
              "(np.float64(2.11503348717694), np.float64(2.2449665128230603))"
            ]
          },
          "metadata": {},
          "execution_count": 117
        }
      ]
    },
    {
      "cell_type": "code",
      "source": [
        "norm.interval(0.90, mean, se)"
      ],
      "metadata": {
        "colab": {
          "base_uri": "https://localhost:8080/"
        },
        "id": "nykq4Kq1uXgS",
        "outputId": "eb2ae37a-47b9-432c-85fa-a6120dd77293"
      },
      "execution_count": 118,
      "outputs": [
        {
          "output_type": "execute_result",
          "data": {
            "text/plain": [
              "(np.float64(2.11503348717694), np.float64(2.2449665128230603))"
            ]
          },
          "metadata": {},
          "execution_count": 118
        }
      ]
    },
    {
      "cell_type": "code",
      "source": [],
      "metadata": {
        "id": "2xTKkvCxuryl"
      },
      "execution_count": null,
      "outputs": []
    }
  ]
}