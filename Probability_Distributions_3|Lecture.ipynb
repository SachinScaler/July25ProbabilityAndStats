{
  "nbformat": 4,
  "nbformat_minor": 0,
  "metadata": {
    "colab": {
      "provenance": [],
      "authorship_tag": "ABX9TyMWicabfXFmimc981Dgknr+",
      "include_colab_link": true
    },
    "kernelspec": {
      "name": "python3",
      "display_name": "Python 3"
    },
    "language_info": {
      "name": "python"
    }
  },
  "cells": [
    {
      "cell_type": "markdown",
      "metadata": {
        "id": "view-in-github",
        "colab_type": "text"
      },
      "source": [
        "<a href=\"https://colab.research.google.com/github/SachinScaler/July25ProbabilityAndStats/blob/main/Probability_Distributions_3%7CLecture.ipynb\" target=\"_parent\"><img src=\"https://colab.research.google.com/assets/colab-badge.svg\" alt=\"Open In Colab\"/></a>"
      ]
    },
    {
      "cell_type": "code",
      "execution_count": 5,
      "metadata": {
        "colab": {
          "base_uri": "https://localhost:8080/"
        },
        "id": "_0AeH3c-fW4i",
        "outputId": "b30e6b3d-656f-4959-f8ed-1e19edf026cb"
      },
      "outputs": [
        {
          "output_type": "execute_result",
          "data": {
            "text/plain": [
              "1.6399999999999977"
            ]
          },
          "metadata": {},
          "execution_count": 5
        }
      ],
      "source": [
        "from scipy.stats import norm\n",
        "\n",
        "u = 65\n",
        "s = 2.5\n",
        "\n",
        "x = 69.1\n",
        "\n",
        "z = (x - u) / s\n",
        "z"
      ]
    },
    {
      "cell_type": "code",
      "source": [
        "norm.cdf(z)"
      ],
      "metadata": {
        "colab": {
          "base_uri": "https://localhost:8080/"
        },
        "id": "r7KIHS3Jf1jO",
        "outputId": "528c0dd9-54c4-470c-99ad-9c78a3bd6c8c"
      },
      "execution_count": 6,
      "outputs": [
        {
          "output_type": "execute_result",
          "data": {
            "text/plain": [
              "np.float64(0.949497416525896)"
            ]
          },
          "metadata": {},
          "execution_count": 6
        }
      ]
    },
    {
      "cell_type": "code",
      "source": [
        "norm.ppf(0.96)"
      ],
      "metadata": {
        "colab": {
          "base_uri": "https://localhost:8080/"
        },
        "id": "NRsPrxpsf6jY",
        "outputId": "3daf186c-571a-4a58-efbc-5f42b9274b3b"
      },
      "execution_count": 7,
      "outputs": [
        {
          "output_type": "execute_result",
          "data": {
            "text/plain": [
              "np.float64(1.7506860712521692)"
            ]
          },
          "metadata": {},
          "execution_count": 7
        }
      ]
    },
    {
      "cell_type": "code",
      "source": [
        "z_score = 1.75\n",
        "\n",
        "x = z_score * 2.5 + 65 # z * std + mean\n",
        "x"
      ],
      "metadata": {
        "colab": {
          "base_uri": "https://localhost:8080/"
        },
        "id": "Zo2KzmphhWca",
        "outputId": "3f3dbf83-60cb-4a99-d253-e2a062cc38b7"
      },
      "execution_count": 8,
      "outputs": [
        {
          "output_type": "execute_result",
          "data": {
            "text/plain": [
              "69.375"
            ]
          },
          "metadata": {},
          "execution_count": 8
        }
      ]
    },
    {
      "cell_type": "code",
      "source": [
        "z = norm.ppf(0.05)\n",
        "z"
      ],
      "metadata": {
        "colab": {
          "base_uri": "https://localhost:8080/"
        },
        "id": "Lk3A-CqIhire",
        "outputId": "00ded1dc-28d1-445d-a090-b2d2942445f5"
      },
      "execution_count": 9,
      "outputs": [
        {
          "output_type": "execute_result",
          "data": {
            "text/plain": [
              "np.float64(-1.6448536269514729)"
            ]
          },
          "metadata": {},
          "execution_count": 9
        }
      ]
    },
    {
      "cell_type": "code",
      "source": [
        "mean_time = 7.42\n",
        "std = 0.34\n",
        "x = z * std + mean_time\n",
        "x"
      ],
      "metadata": {
        "colab": {
          "base_uri": "https://localhost:8080/"
        },
        "id": "O5G3H_NnjcHI",
        "outputId": "9fd0b330-67ce-4933-d8f5-c6b4d20cdc37"
      },
      "execution_count": 11,
      "outputs": [
        {
          "output_type": "execute_result",
          "data": {
            "text/plain": [
              "np.float64(6.860749766836499)"
            ]
          },
          "metadata": {},
          "execution_count": 11
        }
      ]
    },
    {
      "cell_type": "code",
      "source": [
        "dist = 500\n",
        "s = dist/x\n",
        "s"
      ],
      "metadata": {
        "colab": {
          "base_uri": "https://localhost:8080/"
        },
        "id": "hlq8XCo2jpqs",
        "outputId": "717f1ae7-4716-47af-e60e-b3670868a298"
      },
      "execution_count": 13,
      "outputs": [
        {
          "output_type": "execute_result",
          "data": {
            "text/plain": [
              "np.float64(72.87833210546471)"
            ]
          },
          "metadata": {},
          "execution_count": 13
        }
      ]
    },
    {
      "cell_type": "code",
      "source": [
        "norm.cdf(1.5)"
      ],
      "metadata": {
        "colab": {
          "base_uri": "https://localhost:8080/"
        },
        "id": "x4dwcTx5keGY",
        "outputId": "53fbc9fe-5cf3-4d08-f6d8-d37b0abac137"
      },
      "execution_count": 14,
      "outputs": [
        {
          "output_type": "execute_result",
          "data": {
            "text/plain": [
              "np.float64(0.9331927987311419)"
            ]
          },
          "metadata": {},
          "execution_count": 14
        }
      ]
    },
    {
      "cell_type": "code",
      "source": [
        "z = norm.ppf(0.97)\n",
        "\n",
        "x = 200* z + 1000\n",
        "x\n"
      ],
      "metadata": {
        "colab": {
          "base_uri": "https://localhost:8080/"
        },
        "id": "0b-1qv2ImJvq",
        "outputId": "6f9511dc-1165-4983-dcf4-b2abd3bbb391"
      },
      "execution_count": 16,
      "outputs": [
        {
          "output_type": "execute_result",
          "data": {
            "text/plain": [
              "np.float64(1376.15872163025)"
            ]
          },
          "metadata": {},
          "execution_count": 16
        }
      ]
    },
    {
      "cell_type": "markdown",
      "source": [
        "Imagine you have two friends,\n",
        "Alex and Taylor, who are both great at math but have different grading systems.  \n",
        "Alex's math scores range from 0 to 100, while Taylor's scores range from 0 to 50.\n",
        "You want to know who is performing with more consistency."
      ],
      "metadata": {
        "id": "1mdMsjY1ow3_"
      }
    },
    {
      "cell_type": "code",
      "source": [
        "import numpy as np\n",
        "\n",
        "# Alex's math scores\n",
        "alex_scores = np.array([90, 75, 80, 95, 60])\n",
        "\n",
        "# Taylor's math scores\n",
        "taylor_scores = np.array([40, 35, 45, 30, 50])"
      ],
      "metadata": {
        "id": "evMn1J5QnXdx"
      },
      "execution_count": 17,
      "outputs": []
    },
    {
      "cell_type": "code",
      "source": [
        "alex_mu = np.mean(alex_scores)\n",
        "alex_std = np.std(alex_scores)\n",
        "\n",
        "taylor_mu = np.mean(taylor_scores)\n",
        "taylor_std = np.std(taylor_scores)\n",
        "\n",
        "print(\"Alex mu\", alex_mu)\n",
        "print(\"Alex std\", alex_std)\n",
        "print(\"Taylor mu\", taylor_mu)\n",
        "print(\"Taylor std\", taylor_std)"
      ],
      "metadata": {
        "colab": {
          "base_uri": "https://localhost:8080/"
        },
        "id": "b8e6VaSko5m-",
        "outputId": "9012dd96-c759-48e3-a946-be5322ab14b6"
      },
      "execution_count": 18,
      "outputs": [
        {
          "output_type": "stream",
          "name": "stdout",
          "text": [
            "Alex mu 80.0\n",
            "Alex std 12.24744871391589\n",
            "Taylor mu 40.0\n",
            "Taylor std 7.0710678118654755\n"
          ]
        }
      ]
    },
    {
      "cell_type": "code",
      "source": [
        "# standarzation: z-scaling: z = (x - u) / s\n",
        "alex_z = (alex_scores - alex_mu) / alex_std\n",
        "taylor_z = (taylor_scores - taylor_mu) / taylor_std\n",
        "\n",
        "print(\"Alex z\", alex_z)\n",
        "print(\"Taylor z\", taylor_z)"
      ],
      "metadata": {
        "colab": {
          "base_uri": "https://localhost:8080/"
        },
        "id": "BdSoWdyipG60",
        "outputId": "469c1f65-6cb1-4b33-929f-ccb674053fc1"
      },
      "execution_count": 19,
      "outputs": [
        {
          "output_type": "stream",
          "name": "stdout",
          "text": [
            "Alex z [ 0.81649658 -0.40824829  0.          1.22474487 -1.63299316]\n",
            "Taylor z [ 0.         -0.70710678  0.70710678 -1.41421356  1.41421356]\n"
          ]
        }
      ]
    },
    {
      "cell_type": "code",
      "source": [
        "1.22474487 -"
      ],
      "metadata": {
        "id": "sh9r8rfEpfRd"
      },
      "execution_count": null,
      "outputs": []
    }
  ]
}