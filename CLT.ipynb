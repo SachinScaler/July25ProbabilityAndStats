{
  "nbformat": 4,
  "nbformat_minor": 0,
  "metadata": {
    "colab": {
      "provenance": [],
      "authorship_tag": "ABX9TyOmNkXMt2+0EIBLPN8UWKmW",
      "include_colab_link": true
    },
    "kernelspec": {
      "name": "python3",
      "display_name": "Python 3"
    },
    "language_info": {
      "name": "python"
    }
  },
  "cells": [
    {
      "cell_type": "markdown",
      "metadata": {
        "id": "view-in-github",
        "colab_type": "text"
      },
      "source": [
        "<a href=\"https://colab.research.google.com/github/SachinScaler/July25ProbabilityAndStats/blob/main/CLT.ipynb\" target=\"_parent\"><img src=\"https://colab.research.google.com/assets/colab-badge.svg\" alt=\"Open In Colab\"/></a>"
      ]
    },
    {
      "cell_type": "code",
      "execution_count": 1,
      "metadata": {
        "colab": {
          "base_uri": "https://localhost:8080/"
        },
        "id": "38d3vuSy3OYD",
        "outputId": "95fa2346-b41b-48dd-fdd6-91c3c1259087"
      },
      "outputs": [
        {
          "output_type": "stream",
          "name": "stdout",
          "text": [
            "--2025-08-04 16:14:37--  https://drive.google.com/uc?id=1Mrt008vkE4nVb1zE4f06_rtq70QPfkIo\n",
            "Resolving drive.google.com (drive.google.com)... 142.251.107.102, 142.251.107.139, 142.251.107.138, ...\n",
            "Connecting to drive.google.com (drive.google.com)|142.251.107.102|:443... connected.\n",
            "HTTP request sent, awaiting response... 303 See Other\n",
            "Location: https://drive.usercontent.google.com/download?id=1Mrt008vkE4nVb1zE4f06_rtq70QPfkIo [following]\n",
            "--2025-08-04 16:14:37--  https://drive.usercontent.google.com/download?id=1Mrt008vkE4nVb1zE4f06_rtq70QPfkIo\n",
            "Resolving drive.usercontent.google.com (drive.usercontent.google.com)... 172.217.203.132, 2607:f8b0:400c:c07::84\n",
            "Connecting to drive.usercontent.google.com (drive.usercontent.google.com)|172.217.203.132|:443... connected.\n",
            "HTTP request sent, awaiting response... 200 OK\n",
            "Length: 428120 (418K) [application/octet-stream]\n",
            "Saving to: ‘weight-height.csv’\n",
            "\n",
            "weight-height.csv   100%[===================>] 418.09K  --.-KB/s    in 0.006s  \n",
            "\n",
            "2025-08-04 16:14:38 (72.9 MB/s) - ‘weight-height.csv’ saved [428120/428120]\n",
            "\n"
          ]
        }
      ],
      "source": [
        "!wget --no-check-certificate https://drive.google.com/uc?id=1Mrt008vkE4nVb1zE4f06_rtq70QPfkIo -O weight-height.csv\n"
      ]
    },
    {
      "cell_type": "code",
      "source": [
        "import numpy as np\n",
        "import pandas as pd\n",
        "import seaborn as sns\n",
        "import matplotlib.pyplot as plt\n",
        "from scipy.stats import norm\n",
        "\n",
        "\n",
        "df_hw = pd.read_csv('weight-height.csv')\n",
        "df_hw.head()"
      ],
      "metadata": {
        "colab": {
          "base_uri": "https://localhost:8080/",
          "height": 204
        },
        "id": "BBoDeYzx3O4g",
        "outputId": "e8d248f6-24dc-41cb-84fc-33e9e75da7ad"
      },
      "execution_count": 3,
      "outputs": [
        {
          "output_type": "execute_result",
          "data": {
            "text/plain": [
              "  Gender     Height      Weight\n",
              "0   Male  73.847017  241.893563\n",
              "1   Male  68.781904  162.310473\n",
              "2   Male  74.110105  212.740856\n",
              "3   Male  71.730978  220.042470\n",
              "4   Male  69.881796  206.349801"
            ],
            "text/html": [
              "\n",
              "  <div id=\"df-0743dd34-612a-428a-baad-ee372955119b\" class=\"colab-df-container\">\n",
              "    <div>\n",
              "<style scoped>\n",
              "    .dataframe tbody tr th:only-of-type {\n",
              "        vertical-align: middle;\n",
              "    }\n",
              "\n",
              "    .dataframe tbody tr th {\n",
              "        vertical-align: top;\n",
              "    }\n",
              "\n",
              "    .dataframe thead th {\n",
              "        text-align: right;\n",
              "    }\n",
              "</style>\n",
              "<table border=\"1\" class=\"dataframe\">\n",
              "  <thead>\n",
              "    <tr style=\"text-align: right;\">\n",
              "      <th></th>\n",
              "      <th>Gender</th>\n",
              "      <th>Height</th>\n",
              "      <th>Weight</th>\n",
              "    </tr>\n",
              "  </thead>\n",
              "  <tbody>\n",
              "    <tr>\n",
              "      <th>0</th>\n",
              "      <td>Male</td>\n",
              "      <td>73.847017</td>\n",
              "      <td>241.893563</td>\n",
              "    </tr>\n",
              "    <tr>\n",
              "      <th>1</th>\n",
              "      <td>Male</td>\n",
              "      <td>68.781904</td>\n",
              "      <td>162.310473</td>\n",
              "    </tr>\n",
              "    <tr>\n",
              "      <th>2</th>\n",
              "      <td>Male</td>\n",
              "      <td>74.110105</td>\n",
              "      <td>212.740856</td>\n",
              "    </tr>\n",
              "    <tr>\n",
              "      <th>3</th>\n",
              "      <td>Male</td>\n",
              "      <td>71.730978</td>\n",
              "      <td>220.042470</td>\n",
              "    </tr>\n",
              "    <tr>\n",
              "      <th>4</th>\n",
              "      <td>Male</td>\n",
              "      <td>69.881796</td>\n",
              "      <td>206.349801</td>\n",
              "    </tr>\n",
              "  </tbody>\n",
              "</table>\n",
              "</div>\n",
              "    <div class=\"colab-df-buttons\">\n",
              "\n",
              "  <div class=\"colab-df-container\">\n",
              "    <button class=\"colab-df-convert\" onclick=\"convertToInteractive('df-0743dd34-612a-428a-baad-ee372955119b')\"\n",
              "            title=\"Convert this dataframe to an interactive table.\"\n",
              "            style=\"display:none;\">\n",
              "\n",
              "  <svg xmlns=\"http://www.w3.org/2000/svg\" height=\"24px\" viewBox=\"0 -960 960 960\">\n",
              "    <path d=\"M120-120v-720h720v720H120Zm60-500h600v-160H180v160Zm220 220h160v-160H400v160Zm0 220h160v-160H400v160ZM180-400h160v-160H180v160Zm440 0h160v-160H620v160ZM180-180h160v-160H180v160Zm440 0h160v-160H620v160Z\"/>\n",
              "  </svg>\n",
              "    </button>\n",
              "\n",
              "  <style>\n",
              "    .colab-df-container {\n",
              "      display:flex;\n",
              "      gap: 12px;\n",
              "    }\n",
              "\n",
              "    .colab-df-convert {\n",
              "      background-color: #E8F0FE;\n",
              "      border: none;\n",
              "      border-radius: 50%;\n",
              "      cursor: pointer;\n",
              "      display: none;\n",
              "      fill: #1967D2;\n",
              "      height: 32px;\n",
              "      padding: 0 0 0 0;\n",
              "      width: 32px;\n",
              "    }\n",
              "\n",
              "    .colab-df-convert:hover {\n",
              "      background-color: #E2EBFA;\n",
              "      box-shadow: 0px 1px 2px rgba(60, 64, 67, 0.3), 0px 1px 3px 1px rgba(60, 64, 67, 0.15);\n",
              "      fill: #174EA6;\n",
              "    }\n",
              "\n",
              "    .colab-df-buttons div {\n",
              "      margin-bottom: 4px;\n",
              "    }\n",
              "\n",
              "    [theme=dark] .colab-df-convert {\n",
              "      background-color: #3B4455;\n",
              "      fill: #D2E3FC;\n",
              "    }\n",
              "\n",
              "    [theme=dark] .colab-df-convert:hover {\n",
              "      background-color: #434B5C;\n",
              "      box-shadow: 0px 1px 3px 1px rgba(0, 0, 0, 0.15);\n",
              "      filter: drop-shadow(0px 1px 2px rgba(0, 0, 0, 0.3));\n",
              "      fill: #FFFFFF;\n",
              "    }\n",
              "  </style>\n",
              "\n",
              "    <script>\n",
              "      const buttonEl =\n",
              "        document.querySelector('#df-0743dd34-612a-428a-baad-ee372955119b button.colab-df-convert');\n",
              "      buttonEl.style.display =\n",
              "        google.colab.kernel.accessAllowed ? 'block' : 'none';\n",
              "\n",
              "      async function convertToInteractive(key) {\n",
              "        const element = document.querySelector('#df-0743dd34-612a-428a-baad-ee372955119b');\n",
              "        const dataTable =\n",
              "          await google.colab.kernel.invokeFunction('convertToInteractive',\n",
              "                                                    [key], {});\n",
              "        if (!dataTable) return;\n",
              "\n",
              "        const docLinkHtml = 'Like what you see? Visit the ' +\n",
              "          '<a target=\"_blank\" href=https://colab.research.google.com/notebooks/data_table.ipynb>data table notebook</a>'\n",
              "          + ' to learn more about interactive tables.';\n",
              "        element.innerHTML = '';\n",
              "        dataTable['output_type'] = 'display_data';\n",
              "        await google.colab.output.renderOutput(dataTable, element);\n",
              "        const docLink = document.createElement('div');\n",
              "        docLink.innerHTML = docLinkHtml;\n",
              "        element.appendChild(docLink);\n",
              "      }\n",
              "    </script>\n",
              "  </div>\n",
              "\n",
              "\n",
              "    <div id=\"df-2222cd99-cf35-491f-81a7-13e6b8678381\">\n",
              "      <button class=\"colab-df-quickchart\" onclick=\"quickchart('df-2222cd99-cf35-491f-81a7-13e6b8678381')\"\n",
              "                title=\"Suggest charts\"\n",
              "                style=\"display:none;\">\n",
              "\n",
              "<svg xmlns=\"http://www.w3.org/2000/svg\" height=\"24px\"viewBox=\"0 0 24 24\"\n",
              "     width=\"24px\">\n",
              "    <g>\n",
              "        <path d=\"M19 3H5c-1.1 0-2 .9-2 2v14c0 1.1.9 2 2 2h14c1.1 0 2-.9 2-2V5c0-1.1-.9-2-2-2zM9 17H7v-7h2v7zm4 0h-2V7h2v10zm4 0h-2v-4h2v4z\"/>\n",
              "    </g>\n",
              "</svg>\n",
              "      </button>\n",
              "\n",
              "<style>\n",
              "  .colab-df-quickchart {\n",
              "      --bg-color: #E8F0FE;\n",
              "      --fill-color: #1967D2;\n",
              "      --hover-bg-color: #E2EBFA;\n",
              "      --hover-fill-color: #174EA6;\n",
              "      --disabled-fill-color: #AAA;\n",
              "      --disabled-bg-color: #DDD;\n",
              "  }\n",
              "\n",
              "  [theme=dark] .colab-df-quickchart {\n",
              "      --bg-color: #3B4455;\n",
              "      --fill-color: #D2E3FC;\n",
              "      --hover-bg-color: #434B5C;\n",
              "      --hover-fill-color: #FFFFFF;\n",
              "      --disabled-bg-color: #3B4455;\n",
              "      --disabled-fill-color: #666;\n",
              "  }\n",
              "\n",
              "  .colab-df-quickchart {\n",
              "    background-color: var(--bg-color);\n",
              "    border: none;\n",
              "    border-radius: 50%;\n",
              "    cursor: pointer;\n",
              "    display: none;\n",
              "    fill: var(--fill-color);\n",
              "    height: 32px;\n",
              "    padding: 0;\n",
              "    width: 32px;\n",
              "  }\n",
              "\n",
              "  .colab-df-quickchart:hover {\n",
              "    background-color: var(--hover-bg-color);\n",
              "    box-shadow: 0 1px 2px rgba(60, 64, 67, 0.3), 0 1px 3px 1px rgba(60, 64, 67, 0.15);\n",
              "    fill: var(--button-hover-fill-color);\n",
              "  }\n",
              "\n",
              "  .colab-df-quickchart-complete:disabled,\n",
              "  .colab-df-quickchart-complete:disabled:hover {\n",
              "    background-color: var(--disabled-bg-color);\n",
              "    fill: var(--disabled-fill-color);\n",
              "    box-shadow: none;\n",
              "  }\n",
              "\n",
              "  .colab-df-spinner {\n",
              "    border: 2px solid var(--fill-color);\n",
              "    border-color: transparent;\n",
              "    border-bottom-color: var(--fill-color);\n",
              "    animation:\n",
              "      spin 1s steps(1) infinite;\n",
              "  }\n",
              "\n",
              "  @keyframes spin {\n",
              "    0% {\n",
              "      border-color: transparent;\n",
              "      border-bottom-color: var(--fill-color);\n",
              "      border-left-color: var(--fill-color);\n",
              "    }\n",
              "    20% {\n",
              "      border-color: transparent;\n",
              "      border-left-color: var(--fill-color);\n",
              "      border-top-color: var(--fill-color);\n",
              "    }\n",
              "    30% {\n",
              "      border-color: transparent;\n",
              "      border-left-color: var(--fill-color);\n",
              "      border-top-color: var(--fill-color);\n",
              "      border-right-color: var(--fill-color);\n",
              "    }\n",
              "    40% {\n",
              "      border-color: transparent;\n",
              "      border-right-color: var(--fill-color);\n",
              "      border-top-color: var(--fill-color);\n",
              "    }\n",
              "    60% {\n",
              "      border-color: transparent;\n",
              "      border-right-color: var(--fill-color);\n",
              "    }\n",
              "    80% {\n",
              "      border-color: transparent;\n",
              "      border-right-color: var(--fill-color);\n",
              "      border-bottom-color: var(--fill-color);\n",
              "    }\n",
              "    90% {\n",
              "      border-color: transparent;\n",
              "      border-bottom-color: var(--fill-color);\n",
              "    }\n",
              "  }\n",
              "</style>\n",
              "\n",
              "      <script>\n",
              "        async function quickchart(key) {\n",
              "          const quickchartButtonEl =\n",
              "            document.querySelector('#' + key + ' button');\n",
              "          quickchartButtonEl.disabled = true;  // To prevent multiple clicks.\n",
              "          quickchartButtonEl.classList.add('colab-df-spinner');\n",
              "          try {\n",
              "            const charts = await google.colab.kernel.invokeFunction(\n",
              "                'suggestCharts', [key], {});\n",
              "          } catch (error) {\n",
              "            console.error('Error during call to suggestCharts:', error);\n",
              "          }\n",
              "          quickchartButtonEl.classList.remove('colab-df-spinner');\n",
              "          quickchartButtonEl.classList.add('colab-df-quickchart-complete');\n",
              "        }\n",
              "        (() => {\n",
              "          let quickchartButtonEl =\n",
              "            document.querySelector('#df-2222cd99-cf35-491f-81a7-13e6b8678381 button');\n",
              "          quickchartButtonEl.style.display =\n",
              "            google.colab.kernel.accessAllowed ? 'block' : 'none';\n",
              "        })();\n",
              "      </script>\n",
              "    </div>\n",
              "\n",
              "    </div>\n",
              "  </div>\n"
            ],
            "application/vnd.google.colaboratory.intrinsic+json": {
              "type": "dataframe",
              "variable_name": "df_hw",
              "summary": "{\n  \"name\": \"df_hw\",\n  \"rows\": 10000,\n  \"fields\": [\n    {\n      \"column\": \"Gender\",\n      \"properties\": {\n        \"dtype\": \"category\",\n        \"num_unique_values\": 2,\n        \"samples\": [\n          \"Female\",\n          \"Male\"\n        ],\n        \"semantic_type\": \"\",\n        \"description\": \"\"\n      }\n    },\n    {\n      \"column\": \"Height\",\n      \"properties\": {\n        \"dtype\": \"number\",\n        \"std\": 3.8475281207732324,\n        \"min\": 54.2631333250971,\n        \"max\": 78.9987423463896,\n        \"num_unique_values\": 10000,\n        \"samples\": [\n          68.6872321923365,\n          68.8293337723017\n        ],\n        \"semantic_type\": \"\",\n        \"description\": \"\"\n      }\n    },\n    {\n      \"column\": \"Weight\",\n      \"properties\": {\n        \"dtype\": \"number\",\n        \"std\": 32.108439006519546,\n        \"min\": 64.700126712753,\n        \"max\": 269.989698505106,\n        \"num_unique_values\": 10000,\n        \"samples\": [\n          173.115812588004,\n          195.162042097346\n        ],\n        \"semantic_type\": \"\",\n        \"description\": \"\"\n      }\n    }\n  ]\n}"
            }
          },
          "metadata": {},
          "execution_count": 3
        }
      ]
    },
    {
      "cell_type": "code",
      "source": [
        "df_height = df_hw[\"Height\"]\n",
        "df_height.shape"
      ],
      "metadata": {
        "colab": {
          "base_uri": "https://localhost:8080/"
        },
        "id": "WZJrozCY3SWw",
        "outputId": "d9bd3b89-7fb5-4cdc-80da-4b138dae5163"
      },
      "execution_count": 4,
      "outputs": [
        {
          "output_type": "execute_result",
          "data": {
            "text/plain": [
              "(10000,)"
            ]
          },
          "metadata": {},
          "execution_count": 4
        }
      ]
    },
    {
      "cell_type": "markdown",
      "source": [
        "-"
      ],
      "metadata": {
        "id": "sHtKq4jc3hKp"
      }
    },
    {
      "cell_type": "code",
      "source": [
        "print(\"Population Mean\", df_height.mean())\n",
        "print(\"Population Standard Deviation\", df_height.std())"
      ],
      "metadata": {
        "colab": {
          "base_uri": "https://localhost:8080/"
        },
        "id": "_MPcPkPc3dcn",
        "outputId": "8a7fe98e-01a9-40d9-91fe-67b461470724"
      },
      "execution_count": 5,
      "outputs": [
        {
          "output_type": "stream",
          "name": "stdout",
          "text": [
            "Population Mean 66.36755975482124\n",
            "Population Standard Deviation 3.8475281207732324\n"
          ]
        }
      ]
    },
    {
      "cell_type": "markdown",
      "source": [
        "### Sampling Distribution"
      ],
      "metadata": {
        "id": "Ule9KMB03sI_"
      }
    },
    {
      "cell_type": "code",
      "source": [
        "sample_size = 5\n",
        "sample1 = df_height.sample(sample_size)\n",
        "sample1"
      ],
      "metadata": {
        "colab": {
          "base_uri": "https://localhost:8080/",
          "height": 238
        },
        "id": "xr3CbsSP3oVj",
        "outputId": "02d3fadf-d8de-4a88-f2a8-039fce6341ac"
      },
      "execution_count": 8,
      "outputs": [
        {
          "output_type": "execute_result",
          "data": {
            "text/plain": [
              "1427    70.300179\n",
              "145     70.515860\n",
              "2803    66.175870\n",
              "3190    69.509852\n",
              "9236    63.347788\n",
              "Name: Height, dtype: float64"
            ],
            "text/html": [
              "<div>\n",
              "<style scoped>\n",
              "    .dataframe tbody tr th:only-of-type {\n",
              "        vertical-align: middle;\n",
              "    }\n",
              "\n",
              "    .dataframe tbody tr th {\n",
              "        vertical-align: top;\n",
              "    }\n",
              "\n",
              "    .dataframe thead th {\n",
              "        text-align: right;\n",
              "    }\n",
              "</style>\n",
              "<table border=\"1\" class=\"dataframe\">\n",
              "  <thead>\n",
              "    <tr style=\"text-align: right;\">\n",
              "      <th></th>\n",
              "      <th>Height</th>\n",
              "    </tr>\n",
              "  </thead>\n",
              "  <tbody>\n",
              "    <tr>\n",
              "      <th>1427</th>\n",
              "      <td>70.300179</td>\n",
              "    </tr>\n",
              "    <tr>\n",
              "      <th>145</th>\n",
              "      <td>70.515860</td>\n",
              "    </tr>\n",
              "    <tr>\n",
              "      <th>2803</th>\n",
              "      <td>66.175870</td>\n",
              "    </tr>\n",
              "    <tr>\n",
              "      <th>3190</th>\n",
              "      <td>69.509852</td>\n",
              "    </tr>\n",
              "    <tr>\n",
              "      <th>9236</th>\n",
              "      <td>63.347788</td>\n",
              "    </tr>\n",
              "  </tbody>\n",
              "</table>\n",
              "</div><br><label><b>dtype:</b> float64</label>"
            ]
          },
          "metadata": {},
          "execution_count": 8
        }
      ]
    },
    {
      "cell_type": "code",
      "source": [
        "sample1.mean()"
      ],
      "metadata": {
        "colab": {
          "base_uri": "https://localhost:8080/"
        },
        "id": "SK5YQctp34zX",
        "outputId": "266e9788-6faa-4b37-8810-70c0b55432a0"
      },
      "execution_count": 9,
      "outputs": [
        {
          "output_type": "execute_result",
          "data": {
            "text/plain": [
              "np.float64(67.9699099186287)"
            ]
          },
          "metadata": {},
          "execution_count": 9
        }
      ]
    },
    {
      "cell_type": "code",
      "source": [
        "# sampling distribution\n",
        "sampling_distribution_5 = []\n",
        "for i in range(1000):\n",
        "    # create sample for each iteration\n",
        "    sample = df_height.sample(sample_size)\n",
        "\n",
        "    # calculate mean of each sample and append\n",
        "    sampling_distribution_5.append(sample.mean())\n",
        "\n",
        "sampling_distribution_5 = np.array(sampling_distribution_5)\n",
        "sampling_distribution_5[:10]"
      ],
      "metadata": {
        "colab": {
          "base_uri": "https://localhost:8080/"
        },
        "id": "AaRlIBxk39cy",
        "outputId": "e84780f3-6150-4b33-a4a2-80751dfb69dc"
      },
      "execution_count": 17,
      "outputs": [
        {
          "output_type": "execute_result",
          "data": {
            "text/plain": [
              "array([67.68546828, 66.15521225, 67.671279  , 64.50257649, 65.38621863,\n",
              "       67.38588282, 69.60563423, 68.37697218, 63.64345891, 65.27218588])"
            ]
          },
          "metadata": {},
          "execution_count": 17
        }
      ]
    },
    {
      "cell_type": "code",
      "source": [
        "sns.histplot(sampling_distribution_5, kde=True)"
      ],
      "metadata": {
        "colab": {
          "base_uri": "https://localhost:8080/",
          "height": 447
        },
        "id": "7DEt1zYh4h_A",
        "outputId": "3c64bbdb-d04f-4e0f-a901-a76e7f48cf9d"
      },
      "execution_count": 18,
      "outputs": [
        {
          "output_type": "execute_result",
          "data": {
            "text/plain": [
              "<Axes: ylabel='Count'>"
            ]
          },
          "metadata": {},
          "execution_count": 18
        },
        {
          "output_type": "display_data",
          "data": {
            "text/plain": [
              "<Figure size 640x480 with 1 Axes>"
            ],
            "image/png": "[encoded data removed]"
          },
          "metadata": {}
        }
      ]
    },
    {
      "cell_type": "code",
      "source": [
        "print(\"Sampling Distribution Mean(n=5)\", sampling_distribution_5.mean())\n",
        "print(\"Sampling Distribution Standard Deviation(n=5)\",sampling_distribution_5.std())"
      ],
      "metadata": {
        "colab": {
          "base_uri": "https://localhost:8080/"
        },
        "id": "VC1Ad6pn4x-v",
        "outputId": "3efb6c62-3db8-4964-f12e-275e701ed042"
      },
      "execution_count": 20,
      "outputs": [
        {
          "output_type": "stream",
          "name": "stdout",
          "text": [
            "Sampling Distribution Mean(n=5) 66.32178913341325\n",
            "Sampling Distribution Standard Deviation(n=5) 1.7460265317911068\n"
          ]
        }
      ]
    },
    {
      "cell_type": "code",
      "source": [
        "print(\"Population Mean\", df_height.mean())\n",
        "print(\"Population Standard Deviation\", df_height.std())"
      ],
      "metadata": {
        "colab": {
          "base_uri": "https://localhost:8080/"
        },
        "id": "8WM-nW0U5F0b",
        "outputId": "2e8e0d19-b150-46cd-ecc1-d2c07f723735"
      },
      "execution_count": 21,
      "outputs": [
        {
          "output_type": "stream",
          "name": "stdout",
          "text": [
            "Population Mean 66.36755975482124\n",
            "Population Standard Deviation 3.8475281207732324\n"
          ]
        }
      ]
    },
    {
      "cell_type": "code",
      "source": [
        "# sampling distribution\n",
        "sample_size = 20\n",
        "\n",
        "sampling_distribution_20 = []\n",
        "for i in range(1000):\n",
        "    # create sample for each iteration\n",
        "    sample = df_height.sample(sample_size)\n",
        "\n",
        "    # calculate mean of each sample and append\n",
        "    sampling_distribution_20.append(sample.mean())\n",
        "\n",
        "sampling_distribution_20 = np.array(sampling_distribution_20)\n",
        "sampling_distribution_20[:10]"
      ],
      "metadata": {
        "colab": {
          "base_uri": "https://localhost:8080/"
        },
        "id": "NiOJ2LMg5XhN",
        "outputId": "8ee92e51-b2e3-4fea-f785-4714ab48a7fd"
      },
      "execution_count": 22,
      "outputs": [
        {
          "output_type": "execute_result",
          "data": {
            "text/plain": [
              "array([65.17571537, 66.02735356, 65.94602769, 65.06121099, 67.02543458,\n",
              "       67.05579838, 65.55157825, 65.79987484, 66.18631897, 67.48294481])"
            ]
          },
          "metadata": {},
          "execution_count": 22
        }
      ]
    },
    {
      "cell_type": "code",
      "source": [
        "sns.histplot(sampling_distribution_20, kde=True)"
      ],
      "metadata": {
        "colab": {
          "base_uri": "https://localhost:8080/",
          "height": 447
        },
        "id": "GOsC5L4k5ifr",
        "outputId": "2cc60dd5-8a77-4c8f-ac0c-34d537a9905d"
      },
      "execution_count": 23,
      "outputs": [
        {
          "output_type": "execute_result",
          "data": {
            "text/plain": [
              "<Axes: ylabel='Count'>"
            ]
          },
          "metadata": {},
          "execution_count": 23
        },
        {
          "output_type": "display_data",
          "data": {
            "text/plain": [
              "<Figure size 640x480 with 1 Axes>"
            ],
            "image/png": "[encoded data removed]"
          },
          "metadata": {}
        }
      ]
    },
    {
      "cell_type": "code",
      "source": [
        "print(\"Sampling Distribution Mean(n=20)\", sampling_distribution_20.mean())\n",
        "print(\"Sampling Distribution Standard Deviation(n=20)\",sampling_distribution_20.std())"
      ],
      "metadata": {
        "colab": {
          "base_uri": "https://localhost:8080/"
        },
        "id": "Va1Becj95kGx",
        "outputId": "fc34f34f-6fde-4e72-fe60-8d0cd324d83b"
      },
      "execution_count": 27,
      "outputs": [
        {
          "output_type": "stream",
          "name": "stdout",
          "text": [
            "Sampling Distribution Mean(n=20) 66.34325778550209\n",
            "Sampling Distribution Standard Deviation(n=20) 0.838190705568755\n"
          ]
        }
      ]
    },
    {
      "cell_type": "code",
      "source": [
        "print(\"Population Mean\", df_height.mean())\n",
        "print(\"Population Standard Deviation\", df_height.std())"
      ],
      "metadata": {
        "colab": {
          "base_uri": "https://localhost:8080/"
        },
        "id": "9TGJzu4S5lTm",
        "outputId": "8299b180-c102-4d14-f696-39827684b749"
      },
      "execution_count": 25,
      "outputs": [
        {
          "output_type": "stream",
          "name": "stdout",
          "text": [
            "Population Mean 66.36755975482124\n",
            "Population Standard Deviation 3.8475281207732324\n"
          ]
        }
      ]
    },
    {
      "cell_type": "markdown",
      "source": [
        "### Question1:"
      ],
      "metadata": {
        "id": "oNDNfpYAAmmw"
      }
    },
    {
      "cell_type": "code",
      "source": [
        "u = 122\n",
        "pop_sig = 10"
      ],
      "metadata": {
        "id": "E74hHipg58iu"
      },
      "execution_count": 28,
      "outputs": []
    },
    {
      "cell_type": "code",
      "source": [
        "# step 1: p(Mean_X_16>125)\n",
        "se = pop_sig/np.sqrt(16)\n",
        "se"
      ],
      "metadata": {
        "colab": {
          "base_uri": "https://localhost:8080/"
        },
        "id": "-DyutbayAt_K",
        "outputId": "a53b1497-902e-4150-f284-43ce32293f2c"
      },
      "execution_count": 29,
      "outputs": [
        {
          "output_type": "execute_result",
          "data": {
            "text/plain": [
              "np.float64(2.5)"
            ]
          },
          "metadata": {},
          "execution_count": 29
        }
      ]
    },
    {
      "cell_type": "code",
      "source": [
        "# step2: calculate z_score\n",
        "z_score = (125-u)/se\n",
        "z_score"
      ],
      "metadata": {
        "colab": {
          "base_uri": "https://localhost:8080/"
        },
        "id": "WB-muBP0A1_N",
        "outputId": "b841b4ab-3a26-45e3-fbe7-1b05afe000f6"
      },
      "execution_count": 31,
      "outputs": [
        {
          "output_type": "execute_result",
          "data": {
            "text/plain": [
              "np.float64(1.2)"
            ]
          },
          "metadata": {},
          "execution_count": 31
        }
      ]
    },
    {
      "cell_type": "code",
      "source": [
        "P_X_125 = norm.cdf(z_score) # p(x<=125)\n",
        "P_X_125"
      ],
      "metadata": {
        "colab": {
          "base_uri": "https://localhost:8080/"
        },
        "id": "ZJ9ei9l4A_yH",
        "outputId": "93e75171-933d-45e7-cb74-b7f8fa7412ae"
      },
      "execution_count": 33,
      "outputs": [
        {
          "output_type": "execute_result",
          "data": {
            "text/plain": [
              "np.float64(0.8849303297782918)"
            ]
          },
          "metadata": {},
          "execution_count": 33
        }
      ]
    },
    {
      "cell_type": "code",
      "source": [
        "P_X_Greater_125 = 1 - P_X_125\n",
        "P_X_Greater_125"
      ],
      "metadata": {
        "colab": {
          "base_uri": "https://localhost:8080/"
        },
        "id": "8_PO6rtZBIJl",
        "outputId": "3655b1f0-7c3c-47c9-de3d-a4d9e10621ea"
      },
      "execution_count": 34,
      "outputs": [
        {
          "output_type": "execute_result",
          "data": {
            "text/plain": [
              "np.float64(0.11506967022170822)"
            ]
          },
          "metadata": {},
          "execution_count": 34
        }
      ]
    },
    {
      "cell_type": "markdown",
      "source": [
        "![image.png](data:image/png;base64,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)"
      ],
      "metadata": {
        "id": "qWyFNKDhB1eq"
      }
    },
    {
      "cell_type": "code",
      "source": [
        "u = 80\n",
        "sig_pop = 15\n",
        "n = 50\n",
        "\n",
        "se = sig_pop/np.sqrt(n)\n",
        "se"
      ],
      "metadata": {
        "colab": {
          "base_uri": "https://localhost:8080/"
        },
        "id": "ffhDTBObBMyw",
        "outputId": "e8d71a8b-3213-4555-8a37-4c2e572c994c"
      },
      "execution_count": 35,
      "outputs": [
        {
          "output_type": "execute_result",
          "data": {
            "text/plain": [
              "np.float64(2.1213203435596424)"
            ]
          },
          "metadata": {},
          "execution_count": 35
        }
      ]
    },
    {
      "cell_type": "code",
      "source": [
        "z_score = (75- 80)/se\n",
        "\n",
        "z_score"
      ],
      "metadata": {
        "colab": {
          "base_uri": "https://localhost:8080/"
        },
        "id": "58-tHYjhC3aL",
        "outputId": "cf7febad-74e8-450a-96bf-3ad059bbeadc"
      },
      "execution_count": 36,
      "outputs": [
        {
          "output_type": "execute_result",
          "data": {
            "text/plain": [
              "np.float64(-2.3570226039551585)"
            ]
          },
          "metadata": {},
          "execution_count": 36
        }
      ]
    },
    {
      "cell_type": "code",
      "source": [
        "prob = norm.cdf(z_score)\n",
        "prob"
      ],
      "metadata": {
        "colab": {
          "base_uri": "https://localhost:8080/"
        },
        "id": "kf4-oUeKDBAG",
        "outputId": "51b30e86-f85c-4402-f050-efe0775f19fa"
      },
      "execution_count": 37,
      "outputs": [
        {
          "output_type": "execute_result",
          "data": {
            "text/plain": [
              "np.float64(0.009211062727049501)"
            ]
          },
          "metadata": {},
          "execution_count": 37
        }
      ]
    },
    {
      "cell_type": "markdown",
      "source": [
        "### Z Scores"
      ],
      "metadata": {
        "id": "Ps38UkcvHdkm"
      }
    },
    {
      "cell_type": "code",
      "source": [
        "# 95 %\n",
        "z1, z2 = norm.ppf(0.025), norm.ppf(1 - 0.025)\n",
        "z1, z2"
      ],
      "metadata": {
        "colab": {
          "base_uri": "https://localhost:8080/"
        },
        "id": "7Sjq6PiDDFqI",
        "outputId": "59dc6302-02cc-4fbe-bba1-b00894f8daec"
      },
      "execution_count": 38,
      "outputs": [
        {
          "output_type": "execute_result",
          "data": {
            "text/plain": [
              "(np.float64(-1.9599639845400545), np.float64(1.959963984540054))"
            ]
          },
          "metadata": {},
          "execution_count": 38
        }
      ]
    },
    {
      "cell_type": "code",
      "source": [
        "# 99 %\n",
        "z1, z2 = norm.ppf(0.005), norm.ppf(1 - 0.005)\n",
        "z1, z2"
      ],
      "metadata": {
        "colab": {
          "base_uri": "https://localhost:8080/"
        },
        "id": "d5dXAgURHnL-",
        "outputId": "b2626919-fec6-4cd4-d0de-d24f1266d0b6"
      },
      "execution_count": 39,
      "outputs": [
        {
          "output_type": "execute_result",
          "data": {
            "text/plain": [
              "(np.float64(-2.575829303548901), np.float64(2.5758293035489004))"
            ]
          },
          "metadata": {},
          "execution_count": 39
        }
      ]
    },
    {
      "cell_type": "markdown",
      "source": [
        "## SE"
      ],
      "metadata": {
        "id": "Cx2l1jDGJDCp"
      }
    },
    {
      "cell_type": "code",
      "source": [
        "std_error = 2.5/np.sqrt(100)\n",
        "std_error"
      ],
      "metadata": {
        "colab": {
          "base_uri": "https://localhost:8080/"
        },
        "id": "8P0v9njkIRHs",
        "outputId": "e58d5794-7ae5-495b-fa56-7c6690542e56"
      },
      "execution_count": 41,
      "outputs": [
        {
          "output_type": "execute_result",
          "data": {
            "text/plain": [
              "np.float64(0.25)"
            ]
          },
          "metadata": {},
          "execution_count": 41
        }
      ]
    },
    {
      "cell_type": "code",
      "source": [
        "z_l = norm.ppf(0.025)\n",
        "z_l"
      ],
      "metadata": {
        "colab": {
          "base_uri": "https://localhost:8080/"
        },
        "id": "dWge3m-CJGXE",
        "outputId": "e76a34c0-506e-47a6-d40f-cb6841a45bb4"
      },
      "execution_count": 42,
      "outputs": [
        {
          "output_type": "execute_result",
          "data": {
            "text/plain": [
              "np.float64(-1.9599639845400545)"
            ]
          },
          "metadata": {},
          "execution_count": 42
        }
      ]
    },
    {
      "cell_type": "code",
      "source": [
        "z_u = norm.ppf(1 - 0.025)\n",
        "z_u"
      ],
      "metadata": {
        "colab": {
          "base_uri": "https://localhost:8080/"
        },
        "id": "JdYju9zlJSeR",
        "outputId": "adb62a55-541c-401e-b6ae-6d0b178bded1"
      },
      "execution_count": 43,
      "outputs": [
        {
          "output_type": "execute_result",
          "data": {
            "text/plain": [
              "np.float64(1.959963984540054)"
            ]
          },
          "metadata": {},
          "execution_count": 43
        }
      ]
    },
    {
      "cell_type": "code",
      "source": [
        "x_upper = 65 + z_u * std_error\n",
        "x_upper"
      ],
      "metadata": {
        "colab": {
          "base_uri": "https://localhost:8080/"
        },
        "id": "PsjJ_RG3JWIB",
        "outputId": "9168ae48-3704-40ee-ded4-d2dc17caa3c4"
      },
      "execution_count": 44,
      "outputs": [
        {
          "output_type": "execute_result",
          "data": {
            "text/plain": [
              "np.float64(65.48999099613502)"
            ]
          },
          "metadata": {},
          "execution_count": 44
        }
      ]
    },
    {
      "cell_type": "code",
      "source": [
        "x_lower = 65 + z_l * std_error\n",
        "x_lower"
      ],
      "metadata": {
        "colab": {
          "base_uri": "https://localhost:8080/"
        },
        "id": "WwHv8IzHJg9w",
        "outputId": "e0542ca8-684e-4ee3-83fa-5619b4d5a2d0"
      },
      "execution_count": 47,
      "outputs": [
        {
          "output_type": "execute_result",
          "data": {
            "text/plain": [
              "np.float64(64.51000900386498)"
            ]
          },
          "metadata": {},
          "execution_count": 47
        }
      ]
    },
    {
      "cell_type": "markdown",
      "source": [
        "### Shortcut to directly get CI of any CL"
      ],
      "metadata": {
        "id": "aRBrlvl0K01F"
      }
    },
    {
      "cell_type": "code",
      "source": [
        "norm.interval(0.90, 45, 10/np.sqrt(80))"
      ],
      "metadata": {
        "colab": {
          "base_uri": "https://localhost:8080/"
        },
        "id": "Th5pI7NbJiqJ",
        "outputId": "654ed37b-3b79-41cc-aff0-b8baacb4be96"
      },
      "execution_count": 48,
      "outputs": [
        {
          "output_type": "execute_result",
          "data": {
            "text/plain": [
              "(np.float64(43.16099773854971), np.float64(46.83900226145029))"
            ]
          },
          "metadata": {},
          "execution_count": 48
        }
      ]
    },
    {
      "cell_type": "code",
      "source": [
        "norm.interval(0.99, 6, 2/np.sqrt(25))"
      ],
      "metadata": {
        "colab": {
          "base_uri": "https://localhost:8080/"
        },
        "id": "a1uESOWiKy_9",
        "outputId": "d907bcab-cd7c-4349-b9e8-dbdbb85b1c93"
      },
      "execution_count": 49,
      "outputs": [
        {
          "output_type": "execute_result",
          "data": {
            "text/plain": [
              "(np.float64(4.96966827858044), np.float64(7.03033172141956))"
            ]
          },
          "metadata": {},
          "execution_count": 49
        }
      ]
    },
    {
      "cell_type": "markdown",
      "source": [
        "### Bootstrap Sampling"
      ],
      "metadata": {
        "id": "rsZ1nO-5M-o0"
      }
    },
    {
      "cell_type": "code",
      "source": [
        "survey_1 = [35, 36, 33, 37, 34, 35]\n",
        "np.mean(survey_1)\n"
      ],
      "metadata": {
        "colab": {
          "base_uri": "https://localhost:8080/"
        },
        "id": "ZzAVEyX7L1my",
        "outputId": "6f961b74-7131-4d4c-8707-4d1b4d96792d"
      },
      "execution_count": 51,
      "outputs": [
        {
          "output_type": "execute_result",
          "data": {
            "text/plain": [
              "np.float64(35.0)"
            ]
          },
          "metadata": {},
          "execution_count": 51
        }
      ]
    },
    {
      "cell_type": "code",
      "source": [
        "# sample n = 10 items from survey_1 with replacement\n",
        "bootstrapped_samples = np.random.choice(survey_1, size = 10, replace = True)\n",
        "bootstrapped_samples"
      ],
      "metadata": {
        "colab": {
          "base_uri": "https://localhost:8080/"
        },
        "id": "KrfDG3a7NG2B",
        "outputId": "7c9e2884-8533-4ff7-a4cc-e3cd17779fa6"
      },
      "execution_count": 53,
      "outputs": [
        {
          "output_type": "execute_result",
          "data": {
            "text/plain": [
              "array([37, 34, 34, 34, 37, 36, 33, 37, 35, 35])"
            ]
          },
          "metadata": {},
          "execution_count": 53
        }
      ]
    },
    {
      "cell_type": "code",
      "source": [
        "bootstrapped_means = []\n",
        "for i in range(1000):\n",
        "    bootstrapped_samples = np.random.choice(survey_1, size = 10, replace = True)\n",
        "    bootstrapped_means.append(np.mean(bootstrapped_samples))\n",
        "\n",
        "sns.histplot(bootstrapped_means)"
      ],
      "metadata": {
        "colab": {
          "base_uri": "https://localhost:8080/",
          "height": 447
        },
        "id": "V4UqK8ddNaYp",
        "outputId": "66c238f3-bb21-47ed-bc2b-2db8fbf895f0"
      },
      "execution_count": 54,
      "outputs": [
        {
          "output_type": "execute_result",
          "data": {
            "text/plain": [
              "<Axes: ylabel='Count'>"
            ]
          },
          "metadata": {},
          "execution_count": 54
        },
        {
          "output_type": "display_data",
          "data": {
            "text/plain": [
              "<Figure size 640x480 with 1 Axes>"
            ],
            "image/png": "[encoded data removed]"
          },
          "metadata": {}
        }
      ]
    },
    {
      "cell_type": "code",
      "source": [
        "# point estimate\n",
        "np.mean(bootstrapped_means)"
      ],
      "metadata": {
        "colab": {
          "base_uri": "https://localhost:8080/"
        },
        "id": "iEHWi263NsO5",
        "outputId": "478a9331-8790-4aae-e467-2e54daeccbf1"
      },
      "execution_count": 55,
      "outputs": [
        {
          "output_type": "execute_result",
          "data": {
            "text/plain": [
              "np.float64(35.001)"
            ]
          },
          "metadata": {},
          "execution_count": 55
        }
      ]
    },
    {
      "cell_type": "code",
      "source": [
        "# Calculate CI associated with 95 CL"
      ],
      "metadata": {
        "id": "A9V30HNSNxXO"
      },
      "execution_count": 56,
      "outputs": []
    },
    {
      "cell_type": "code",
      "source": [],
      "metadata": {
        "id": "nNzHtZ6MN3D6"
      },
      "execution_count": null,
      "outputs": []
    }
  ]
}