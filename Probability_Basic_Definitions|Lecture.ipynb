{
  "nbformat": 4,
  "nbformat_minor": 0,
  "metadata": {
    "colab": {
      "provenance": [],
      "authorship_tag": "ABX9TyNWAMaWfGcDnb/MFdUdUv6W",
      "include_colab_link": true
    },
    "kernelspec": {
      "name": "python3",
      "display_name": "Python 3"
    },
    "language_info": {
      "name": "python"
    }
  },
  "cells": [
    {
      "cell_type": "markdown",
      "metadata": {
        "id": "view-in-github",
        "colab_type": "text"
      },
      "source": [
        "<a href=\"https://colab.research.google.com/github/SachinScaler/July25ProbabilityAndStats/blob/main/Probability_Basic_Definitions%7CLecture.ipynb\" target=\"_parent\"><img src=\"https://colab.research.google.com/assets/colab-badge.svg\" alt=\"Open In Colab\"/></a>"
      ]
    },
    {
      "cell_type": "code",
      "execution_count": 1,
      "metadata": {
        "colab": {
          "base_uri": "https://localhost:8080/"
        },
        "id": "H56PHutNykAE",
        "outputId": "0aef7719-5d72-4d06-fa96-6a1ae78817c1"
      },
      "outputs": [
        {
          "output_type": "stream",
          "name": "stdout",
          "text": [
            "--2025-07-16 15:12:04--  https://drive.google.com/uc?id=1zBM3idCNWceBMLKMRBTN8aVFAg5U_YH7\n",
            "Resolving drive.google.com (drive.google.com)... 108.177.127.100, 108.177.127.102, 108.177.127.139, ...\n",
            "Connecting to drive.google.com (drive.google.com)|108.177.127.100|:443... connected.\n",
            "HTTP request sent, awaiting response... 303 See Other\n",
            "Location: https://drive.usercontent.google.com/download?id=1zBM3idCNWceBMLKMRBTN8aVFAg5U_YH7 [following]\n",
            "--2025-07-16 15:12:04--  https://drive.usercontent.google.com/download?id=1zBM3idCNWceBMLKMRBTN8aVFAg5U_YH7\n",
            "Resolving drive.usercontent.google.com (drive.usercontent.google.com)... 142.251.31.132, 2a00:1450:4013:c1a::84\n",
            "Connecting to drive.usercontent.google.com (drive.usercontent.google.com)|142.251.31.132|:443... connected.\n",
            "HTTP request sent, awaiting response... 200 OK\n",
            "Length: 26440 (26K) [application/octet-stream]\n",
            "Saving to: ‘Sachin_ODI.csv’\n",
            "\n",
            "Sachin_ODI.csv      100%[===================>]  25.82K  --.-KB/s    in 0s      \n",
            "\n",
            "2025-07-16 15:12:06 (91.2 MB/s) - ‘Sachin_ODI.csv’ saved [26440/26440]\n",
            "\n"
          ]
        }
      ],
      "source": [
        "# download data\n",
        "!wget --no-check-certificate https://drive.google.com/uc?id=1zBM3idCNWceBMLKMRBTN8aVFAg5U_YH7 -O Sachin_ODI.csv\n"
      ]
    },
    {
      "cell_type": "code",
      "source": [
        "import numpy as np\n",
        "import pandas as pd\n",
        "import seaborn as sns\n",
        "import matplotlib.pyplot as plt\n",
        "\n"
      ],
      "metadata": {
        "id": "bSKqajQdysAR"
      },
      "execution_count": 2,
      "outputs": []
    },
    {
      "cell_type": "markdown",
      "source": [
        "## Q1. A match is randomly chosen, what is the probability that India have won that match?"
      ],
      "metadata": {
        "id": "QvpIwnFly0P9"
      }
    },
    {
      "cell_type": "code",
      "source": [],
      "metadata": {
        "id": "ilV95JyMyvea"
      },
      "execution_count": null,
      "outputs": []
    },
    {
      "cell_type": "markdown",
      "source": [
        "## Q2. A match is chosen at a random, what is the probability that Sachin has scored a Century in that match? (3 mins)\n"
      ],
      "metadata": {
        "id": "Aqvvni2ly3Yu"
      }
    },
    {
      "cell_type": "code",
      "source": [],
      "metadata": {
        "id": "wqc22sd8y4PY"
      },
      "execution_count": null,
      "outputs": []
    },
    {
      "cell_type": "markdown",
      "source": [
        "## Q3. A match is chosen at a random. What is the probability that Sachin has scored a century in that match and India have won that match?"
      ],
      "metadata": {
        "id": "M7nGp1rHy--Z"
      }
    },
    {
      "cell_type": "code",
      "source": [],
      "metadata": {
        "id": "kGI6PARjzAA5"
      },
      "execution_count": null,
      "outputs": []
    }
  ]
}